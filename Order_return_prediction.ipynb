{
 "cells": [
  {
   "cell_type": "code",
   "execution_count": 1,
   "metadata": {
    "id": "4gK2mtAtBVqg"
   },
   "outputs": [],
   "source": [
    "#IMPORTING REQUIRED PACKAGES\n",
    "import pandas as pd\n",
    "import seaborn as sns\n",
    "import numpy as np\n",
    "from datetime import datetime,date\n",
    "from time import strptime\n",
    "import matplotlib.pyplot as plt\n",
    "from sklearn import preprocessing \n",
    "from sklearn.tree import DecisionTreeClassifier\n",
    "from sklearn.model_selection import train_test_split, cross_val_score, GridSearchCV\n",
    "from sklearn.preprocessing import StandardScaler\n",
    "from sklearn.metrics import accuracy_score\n",
    "from sklearn.metrics import classification_report\n",
    "from sklearn.metrics import f1_score\n",
    "from sklearn.metrics import precision_score\n",
    "from sklearn.metrics import confusion_matrix\n",
    "from sklearn.ensemble import RandomForestClassifier\n",
    "from sklearn.metrics import recall_score\n",
    "from sklearn.svm import SVC\n",
    "from sklearn.linear_model import LogisticRegression, LogisticRegressionCV\n",
    "from collections import Counter\n",
    "from datetime import timedelta\n",
    "\n"
   ]
  },
  {
   "cell_type": "code",
   "execution_count": 2,
   "metadata": {
    "id": "l8Uax_cGBgtk"
   },
   "outputs": [],
   "source": [
    "#READING DATA FILE\n",
    "\n",
    "my_data=pd.read_csv(r\"C:\\Users\\USER\\Desktop\\round_1\\TrainingData_V1 (1).csv\")"
   ]
  },
  {
   "cell_type": "code",
   "execution_count": 3,
   "metadata": {
    "colab": {
     "base_uri": "https://localhost:8080/",
     "height": 206
    },
    "id": "YOcwWnBFB08w",
    "outputId": "59ab5ac1-4d42-4fc2-eea4-b79d8edae712"
   },
   "outputs": [
    {
     "data": {
      "text/html": [
       "<div>\n",
       "<style scoped>\n",
       "    .dataframe tbody tr th:only-of-type {\n",
       "        vertical-align: middle;\n",
       "    }\n",
       "\n",
       "    .dataframe tbody tr th {\n",
       "        vertical-align: top;\n",
       "    }\n",
       "\n",
       "    .dataframe thead th {\n",
       "        text-align: right;\n",
       "    }\n",
       "</style>\n",
       "<table border=\"1\" class=\"dataframe\">\n",
       "  <thead>\n",
       "    <tr style=\"text-align: right;\">\n",
       "      <th></th>\n",
       "      <th>order_item_id</th>\n",
       "      <th>order_date</th>\n",
       "      <th>delivery_date</th>\n",
       "      <th>item_id</th>\n",
       "      <th>item_size</th>\n",
       "      <th>item_color</th>\n",
       "      <th>brand_id</th>\n",
       "      <th>item_price</th>\n",
       "      <th>user_id</th>\n",
       "      <th>user_title</th>\n",
       "      <th>user_dob</th>\n",
       "      <th>user_state</th>\n",
       "      <th>user_reg_date</th>\n",
       "      <th>return</th>\n",
       "    </tr>\n",
       "  </thead>\n",
       "  <tbody>\n",
       "    <tr>\n",
       "      <th>0</th>\n",
       "      <td>1</td>\n",
       "      <td>22-06-2016</td>\n",
       "      <td>27-06-2016</td>\n",
       "      <td>643</td>\n",
       "      <td>38</td>\n",
       "      <td>navy</td>\n",
       "      <td>30</td>\n",
       "      <td>49.9</td>\n",
       "      <td>30822</td>\n",
       "      <td>Mrs</td>\n",
       "      <td>17-04-1969</td>\n",
       "      <td>1013</td>\n",
       "      <td>23-06-2016</td>\n",
       "      <td>0</td>\n",
       "    </tr>\n",
       "    <tr>\n",
       "      <th>1</th>\n",
       "      <td>10</td>\n",
       "      <td>22-06-2016</td>\n",
       "      <td>27-06-2016</td>\n",
       "      <td>195</td>\n",
       "      <td>xxl</td>\n",
       "      <td>grey</td>\n",
       "      <td>46</td>\n",
       "      <td>19.9</td>\n",
       "      <td>30823</td>\n",
       "      <td>Mrs</td>\n",
       "      <td>22-04-1970</td>\n",
       "      <td>1001</td>\n",
       "      <td>15-03-2015</td>\n",
       "      <td>1</td>\n",
       "    </tr>\n",
       "    <tr>\n",
       "      <th>2</th>\n",
       "      <td>11</td>\n",
       "      <td>22-06-2016</td>\n",
       "      <td>05-07-2016</td>\n",
       "      <td>25</td>\n",
       "      <td>xxl</td>\n",
       "      <td>grey</td>\n",
       "      <td>5</td>\n",
       "      <td>79.9</td>\n",
       "      <td>30823</td>\n",
       "      <td>Mrs</td>\n",
       "      <td>22-04-1970</td>\n",
       "      <td>1001</td>\n",
       "      <td>15-03-2015</td>\n",
       "      <td>0</td>\n",
       "    </tr>\n",
       "    <tr>\n",
       "      <th>3</th>\n",
       "      <td>32</td>\n",
       "      <td>23-06-2016</td>\n",
       "      <td>26-06-2016</td>\n",
       "      <td>173</td>\n",
       "      <td>m</td>\n",
       "      <td>brown</td>\n",
       "      <td>20</td>\n",
       "      <td>19.9</td>\n",
       "      <td>17234</td>\n",
       "      <td>Mrs</td>\n",
       "      <td>09-01-1960</td>\n",
       "      <td>1013</td>\n",
       "      <td>17-02-2015</td>\n",
       "      <td>0</td>\n",
       "    </tr>\n",
       "    <tr>\n",
       "      <th>4</th>\n",
       "      <td>43</td>\n",
       "      <td>23-06-2016</td>\n",
       "      <td>26-06-2016</td>\n",
       "      <td>394</td>\n",
       "      <td>40</td>\n",
       "      <td>black</td>\n",
       "      <td>44</td>\n",
       "      <td>90.0</td>\n",
       "      <td>30827</td>\n",
       "      <td>Mrs</td>\n",
       "      <td>NaN</td>\n",
       "      <td>1006</td>\n",
       "      <td>09-02-2016</td>\n",
       "      <td>1</td>\n",
       "    </tr>\n",
       "  </tbody>\n",
       "</table>\n",
       "</div>"
      ],
      "text/plain": [
       "   order_item_id  order_date delivery_date  item_id item_size item_color  \\\n",
       "0              1  22-06-2016    27-06-2016      643        38       navy   \n",
       "1             10  22-06-2016    27-06-2016      195       xxl       grey   \n",
       "2             11  22-06-2016    05-07-2016       25       xxl       grey   \n",
       "3             32  23-06-2016    26-06-2016      173         m      brown   \n",
       "4             43  23-06-2016    26-06-2016      394        40      black   \n",
       "\n",
       "   brand_id  item_price  user_id user_title    user_dob  user_state  \\\n",
       "0        30        49.9    30822        Mrs  17-04-1969        1013   \n",
       "1        46        19.9    30823        Mrs  22-04-1970        1001   \n",
       "2         5        79.9    30823        Mrs  22-04-1970        1001   \n",
       "3        20        19.9    17234        Mrs  09-01-1960        1013   \n",
       "4        44        90.0    30827        Mrs         NaN        1006   \n",
       "\n",
       "  user_reg_date  return  \n",
       "0    23-06-2016       0  \n",
       "1    15-03-2015       1  \n",
       "2    15-03-2015       0  \n",
       "3    17-02-2015       0  \n",
       "4    09-02-2016       1  "
      ]
     },
     "execution_count": 3,
     "metadata": {},
     "output_type": "execute_result"
    }
   ],
   "source": [
    "#VIEWING FIRST 5 ROWS \n",
    "my_data.head()"
   ]
  },
  {
   "cell_type": "code",
   "execution_count": 4,
   "metadata": {
    "colab": {
     "base_uri": "https://localhost:8080/"
    },
    "id": "j0OI4_l5zITX",
    "outputId": "27419700-bb5a-42ce-8ee2-3c7d7330f835"
   },
   "outputs": [
    {
     "data": {
      "text/plain": [
       "7436"
      ]
     },
     "execution_count": 4,
     "metadata": {},
     "output_type": "execute_result"
    }
   ],
   "source": [
    "my_data[\"delivery_date\"].isna().sum()"
   ]
  },
  {
   "cell_type": "code",
   "execution_count": 5,
   "metadata": {
    "colab": {
     "base_uri": "https://localhost:8080/"
    },
    "id": "hisAamRdCNnO",
    "outputId": "3d87873a-fe70-41b6-a495-5fddbc0b7fd9"
   },
   "outputs": [
    {
     "name": "stdout",
     "output_type": "stream",
     "text": [
      "Columns:  14\n",
      "Rows :  79945\n"
     ]
    }
   ],
   "source": [
    "# FINDING THE ROWS COUNT AND COLUMNS COUNT\n",
    "print (\"Columns: \",my_data.shape[1])\n",
    "print (\"Rows : \", my_data.shape[0])"
   ]
  },
  {
   "cell_type": "code",
   "execution_count": 6,
   "metadata": {
    "colab": {
     "base_uri": "https://localhost:8080/"
    },
    "id": "4zEEBvixCpRY",
    "outputId": "35e4b8ff-f70e-4c17-c1ff-376da338f737"
   },
   "outputs": [
    {
     "name": "stdout",
     "output_type": "stream",
     "text": [
      "<class 'pandas.core.frame.DataFrame'>\n",
      "RangeIndex: 79945 entries, 0 to 79944\n",
      "Data columns (total 14 columns):\n",
      " #   Column         Non-Null Count  Dtype  \n",
      "---  ------         --------------  -----  \n",
      " 0   order_item_id  79945 non-null  int64  \n",
      " 1   order_date     79945 non-null  object \n",
      " 2   delivery_date  72509 non-null  object \n",
      " 3   item_id        79945 non-null  int64  \n",
      " 4   item_size      79945 non-null  object \n",
      " 5   item_color     79945 non-null  object \n",
      " 6   brand_id       79945 non-null  int64  \n",
      " 7   item_price     79945 non-null  float64\n",
      " 8   user_id        79945 non-null  int64  \n",
      " 9   user_title     79945 non-null  object \n",
      " 10  user_dob       72956 non-null  object \n",
      " 11  user_state     79945 non-null  int64  \n",
      " 12  user_reg_date  79945 non-null  object \n",
      " 13  return         79945 non-null  int64  \n",
      "dtypes: float64(1), int64(6), object(7)\n",
      "memory usage: 8.5+ MB\n"
     ]
    }
   ],
   "source": [
    "#CHECNKING INFO LIKE DATA TYPE\n",
    "my_data.info() "
   ]
  },
  {
   "cell_type": "code",
   "execution_count": 7,
   "metadata": {
    "colab": {
     "base_uri": "https://localhost:8080/"
    },
    "id": "4m9cHjoeCk1t",
    "outputId": "99a61ed9-1168-41f3-da0d-303002c94ff8"
   },
   "outputs": [
    {
     "data": {
      "text/plain": [
       "order_item_id       0\n",
       "order_date          0\n",
       "delivery_date    7436\n",
       "item_id             0\n",
       "item_size           0\n",
       "item_color          0\n",
       "brand_id            0\n",
       "item_price          0\n",
       "user_id             0\n",
       "user_title          0\n",
       "user_dob         6989\n",
       "user_state          0\n",
       "user_reg_date       0\n",
       "return              0\n",
       "dtype: int64"
      ]
     },
     "execution_count": 7,
     "metadata": {},
     "output_type": "execute_result"
    }
   ],
   "source": [
    "#CHECKING FOR NULL VALUES\n",
    "#delivery_date=7436\n",
    "#user_dob=6989\n",
    "my_data.isna().sum()\n"
   ]
  },
  {
   "cell_type": "code",
   "execution_count": 8,
   "metadata": {
    "id": "QBjkqkYIHuPF"
   },
   "outputs": [],
   "source": [
    "#function to convert date to specific format and to handle null dates\n",
    "def datetime_delivery(date_str):\n",
    "    #if date is null set it to 01-01-1900 to identify it and so that difference will be less than 0\n",
    "    if date_str!=date_str:\n",
    "        date_str='01-01-1900'\n",
    "\n",
    "    return datetime.strptime(date_str, '%d-%m-%Y')\n",
    "\n",
    "def weekday(x):\n",
    "    #setting null date value to noday for weekday\n",
    "    if x!=x:\n",
    "        x='NoDay'\n",
    "    else:\n",
    "        x=datetime.strptime(x, '%d-%m-%Y').strftime('%A')\n",
    "    return x\n",
    "def month(x):\n",
    "    #setting null date value to nomonth for month\n",
    "    if x!=x:\n",
    "        x='NoMonth'\n",
    "    else:\n",
    "        x=datetime.strptime(x, '%d-%m-%Y').strftime('%B')\n",
    "    return x\n",
    "\n",
    "\n",
    "#finding differece of order and delivery date\n",
    "my_data['Delivery_time']=(my_data.delivery_date.apply(datetime_delivery)-my_data.order_date.apply(datetime_delivery))\n",
    "my_data['Delivery_time']=my_data.Delivery_time.apply(lambda x: int(str(x).split(\" \")[0]) )\n",
    "#finding weekday\n",
    "my_data['Weekday']=my_data.delivery_date.apply(weekday)\n",
    "#finding month\n",
    "my_data['Month']=my_data.delivery_date.apply(month)"
   ]
  },
  {
   "cell_type": "code",
   "execution_count": 9,
   "metadata": {
    "colab": {
     "base_uri": "https://localhost:8080/"
    },
    "id": "-_ZtSzvBXtaE",
    "outputId": "cb0f62bd-14a4-401b-a1ad-35bba6fb8613"
   },
   "outputs": [
    {
     "data": {
      "text/plain": [
       "Sunday       18366\n",
       "Monday       15227\n",
       "Saturday     15018\n",
       "Tuesday      12439\n",
       "Wednesday    11152\n",
       "NoDay         7436\n",
       "Thursday       307\n",
       "Name: Weekday, dtype: int64"
      ]
     },
     "execution_count": 9,
     "metadata": {},
     "output_type": "execute_result"
    }
   ],
   "source": [
    "my_data[\"Weekday\"].value_counts()"
   ]
  },
  {
   "cell_type": "code",
   "execution_count": 10,
   "metadata": {
    "colab": {
     "base_uri": "https://localhost:8080/",
     "height": 340
    },
    "id": "INIyuwkbIIE1",
    "outputId": "86850734-2e57-4387-f2a8-e7266976895d"
   },
   "outputs": [
    {
     "data": {
      "text/html": [
       "<div>\n",
       "<style scoped>\n",
       "    .dataframe tbody tr th:only-of-type {\n",
       "        vertical-align: middle;\n",
       "    }\n",
       "\n",
       "    .dataframe tbody tr th {\n",
       "        vertical-align: top;\n",
       "    }\n",
       "\n",
       "    .dataframe thead th {\n",
       "        text-align: right;\n",
       "    }\n",
       "</style>\n",
       "<table border=\"1\" class=\"dataframe\">\n",
       "  <thead>\n",
       "    <tr style=\"text-align: right;\">\n",
       "      <th></th>\n",
       "      <th>order_item_id</th>\n",
       "      <th>order_date</th>\n",
       "      <th>delivery_date</th>\n",
       "      <th>item_id</th>\n",
       "      <th>item_size</th>\n",
       "      <th>item_color</th>\n",
       "      <th>brand_id</th>\n",
       "      <th>item_price</th>\n",
       "      <th>user_id</th>\n",
       "      <th>user_title</th>\n",
       "      <th>user_dob</th>\n",
       "      <th>user_state</th>\n",
       "      <th>user_reg_date</th>\n",
       "      <th>return</th>\n",
       "      <th>Delivery_time</th>\n",
       "      <th>Weekday</th>\n",
       "      <th>Month</th>\n",
       "    </tr>\n",
       "  </thead>\n",
       "  <tbody>\n",
       "    <tr>\n",
       "      <th>0</th>\n",
       "      <td>1</td>\n",
       "      <td>22-06-2016</td>\n",
       "      <td>27-06-2016</td>\n",
       "      <td>643</td>\n",
       "      <td>38</td>\n",
       "      <td>navy</td>\n",
       "      <td>30</td>\n",
       "      <td>49.9</td>\n",
       "      <td>30822</td>\n",
       "      <td>Mrs</td>\n",
       "      <td>17-04-1969</td>\n",
       "      <td>1013</td>\n",
       "      <td>23-06-2016</td>\n",
       "      <td>0</td>\n",
       "      <td>5</td>\n",
       "      <td>Monday</td>\n",
       "      <td>June</td>\n",
       "    </tr>\n",
       "    <tr>\n",
       "      <th>1</th>\n",
       "      <td>10</td>\n",
       "      <td>22-06-2016</td>\n",
       "      <td>27-06-2016</td>\n",
       "      <td>195</td>\n",
       "      <td>xxl</td>\n",
       "      <td>grey</td>\n",
       "      <td>46</td>\n",
       "      <td>19.9</td>\n",
       "      <td>30823</td>\n",
       "      <td>Mrs</td>\n",
       "      <td>22-04-1970</td>\n",
       "      <td>1001</td>\n",
       "      <td>15-03-2015</td>\n",
       "      <td>1</td>\n",
       "      <td>5</td>\n",
       "      <td>Monday</td>\n",
       "      <td>June</td>\n",
       "    </tr>\n",
       "    <tr>\n",
       "      <th>2</th>\n",
       "      <td>11</td>\n",
       "      <td>22-06-2016</td>\n",
       "      <td>05-07-2016</td>\n",
       "      <td>25</td>\n",
       "      <td>xxl</td>\n",
       "      <td>grey</td>\n",
       "      <td>5</td>\n",
       "      <td>79.9</td>\n",
       "      <td>30823</td>\n",
       "      <td>Mrs</td>\n",
       "      <td>22-04-1970</td>\n",
       "      <td>1001</td>\n",
       "      <td>15-03-2015</td>\n",
       "      <td>0</td>\n",
       "      <td>13</td>\n",
       "      <td>Tuesday</td>\n",
       "      <td>July</td>\n",
       "    </tr>\n",
       "    <tr>\n",
       "      <th>3</th>\n",
       "      <td>32</td>\n",
       "      <td>23-06-2016</td>\n",
       "      <td>26-06-2016</td>\n",
       "      <td>173</td>\n",
       "      <td>m</td>\n",
       "      <td>brown</td>\n",
       "      <td>20</td>\n",
       "      <td>19.9</td>\n",
       "      <td>17234</td>\n",
       "      <td>Mrs</td>\n",
       "      <td>09-01-1960</td>\n",
       "      <td>1013</td>\n",
       "      <td>17-02-2015</td>\n",
       "      <td>0</td>\n",
       "      <td>3</td>\n",
       "      <td>Sunday</td>\n",
       "      <td>June</td>\n",
       "    </tr>\n",
       "    <tr>\n",
       "      <th>4</th>\n",
       "      <td>43</td>\n",
       "      <td>23-06-2016</td>\n",
       "      <td>26-06-2016</td>\n",
       "      <td>394</td>\n",
       "      <td>40</td>\n",
       "      <td>black</td>\n",
       "      <td>44</td>\n",
       "      <td>90.0</td>\n",
       "      <td>30827</td>\n",
       "      <td>Mrs</td>\n",
       "      <td>NaN</td>\n",
       "      <td>1006</td>\n",
       "      <td>09-02-2016</td>\n",
       "      <td>1</td>\n",
       "      <td>3</td>\n",
       "      <td>Sunday</td>\n",
       "      <td>June</td>\n",
       "    </tr>\n",
       "  </tbody>\n",
       "</table>\n",
       "</div>"
      ],
      "text/plain": [
       "   order_item_id  order_date delivery_date  item_id item_size item_color  \\\n",
       "0              1  22-06-2016    27-06-2016      643        38       navy   \n",
       "1             10  22-06-2016    27-06-2016      195       xxl       grey   \n",
       "2             11  22-06-2016    05-07-2016       25       xxl       grey   \n",
       "3             32  23-06-2016    26-06-2016      173         m      brown   \n",
       "4             43  23-06-2016    26-06-2016      394        40      black   \n",
       "\n",
       "   brand_id  item_price  user_id user_title    user_dob  user_state  \\\n",
       "0        30        49.9    30822        Mrs  17-04-1969        1013   \n",
       "1        46        19.9    30823        Mrs  22-04-1970        1001   \n",
       "2         5        79.9    30823        Mrs  22-04-1970        1001   \n",
       "3        20        19.9    17234        Mrs  09-01-1960        1013   \n",
       "4        44        90.0    30827        Mrs         NaN        1006   \n",
       "\n",
       "  user_reg_date  return  Delivery_time  Weekday Month  \n",
       "0    23-06-2016       0              5   Monday  June  \n",
       "1    15-03-2015       1              5   Monday  June  \n",
       "2    15-03-2015       0             13  Tuesday  July  \n",
       "3    17-02-2015       0              3   Sunday  June  \n",
       "4    09-02-2016       1              3   Sunday  June  "
      ]
     },
     "execution_count": 10,
     "metadata": {},
     "output_type": "execute_result"
    }
   ],
   "source": [
    "my_data.head()"
   ]
  },
  {
   "cell_type": "markdown",
   "metadata": {
    "id": "0teBv2Y2e3nL"
   },
   "source": [
    "## imputing delivery date missing values"
   ]
  },
  {
   "cell_type": "code",
   "execution_count": 11,
   "metadata": {
    "colab": {
     "base_uri": "https://localhost:8080/"
    },
    "id": "-c9AOJEfIfT2",
    "outputId": "8e281f35-faaa-4391-8fc5-fc60edc65d13"
   },
   "outputs": [
    {
     "name": "stderr",
     "output_type": "stream",
     "text": [
      "<ipython-input-11-cbe7e5c72a7d>:4: SettingWithCopyWarning: \n",
      "A value is trying to be set on a copy of a slice from a DataFrame.\n",
      "Try using .loc[row_indexer,col_indexer] = value instead\n",
      "\n",
      "See the caveats in the documentation: https://pandas.pydata.org/pandas-docs/stable/user_guide/indexing.html#returning-a-view-versus-a-copy\n",
      "  x0[y] =x0[y].map( lambda x : x0[y].median() if x <= 0 else x) #replacing returns  delivery time less than 0 with returns median\n",
      "<ipython-input-11-cbe7e5c72a7d>:5: SettingWithCopyWarning: \n",
      "A value is trying to be set on a copy of a slice from a DataFrame.\n",
      "Try using .loc[row_indexer,col_indexer] = value instead\n",
      "\n",
      "See the caveats in the documentation: https://pandas.pydata.org/pandas-docs/stable/user_guide/indexing.html#returning-a-view-versus-a-copy\n",
      "  x1[y] =x1[y].map( lambda x : x1[y].median() if x <= 0 else x) #replacing non-returns delivery time less than 0 with non-returns median\n"
     ]
    }
   ],
   "source": [
    "def imputing_delivery(x,y):\n",
    "    x0=x[x['return']==1] # subset comprising of return\n",
    "    x1=x[x['return']==0] # subset comprising of non-return\n",
    "    x0[y] =x0[y].map( lambda x : x0[y].median() if x <= 0 else x) #replacing returns  delivery time less than 0 with returns median\n",
    "    x1[y] =x1[y].map( lambda x : x1[y].median() if x <= 0 else x) #replacing non-returns delivery time less than 0 with non-returns median\n",
    "    return pd.concat([x0,x1])\n",
    "#Imputing 0 values with median for each class\n",
    "my_data=imputing_delivery(my_data,'Delivery_time')\n",
    "my_data['Weekday'][my_data['return']==0].value_counts(),my_data['Weekday'][my_data['return']==1].value_counts()\n",
    "my_data['Weekday']=my_data['Weekday'].apply(lambda x: x if x!='NoDay' else 'Sunday')\n",
    "my_data['Month']=my_data['Month'].apply(lambda x: x if x!='NoMonth' else 'August')"
   ]
  },
  {
   "cell_type": "code",
   "execution_count": 12,
   "metadata": {
    "colab": {
     "base_uri": "https://localhost:8080/"
    },
    "id": "05D241U0ixzh",
    "outputId": "54c38c8a-a7a7-4a15-beff-406cbaac63ea"
   },
   "outputs": [
    {
     "data": {
      "text/plain": [
       "August       36865\n",
       "July         22759\n",
       "September    10741\n",
       "June          6197\n",
       "October       1669\n",
       "December       899\n",
       "November       812\n",
       "January          3\n",
       "Name: Month, dtype: int64"
      ]
     },
     "execution_count": 12,
     "metadata": {},
     "output_type": "execute_result"
    }
   ],
   "source": [
    "my_data[\"Month\"].value_counts()"
   ]
  },
  {
   "cell_type": "code",
   "execution_count": 13,
   "metadata": {
    "colab": {
     "base_uri": "https://localhost:8080/"
    },
    "id": "0YxVbPRTX5Ma",
    "outputId": "aa213e9c-d032-482e-9da8-5c04056aad59"
   },
   "outputs": [
    {
     "data": {
      "text/plain": [
       "Sunday       25802\n",
       "Monday       15227\n",
       "Saturday     15018\n",
       "Tuesday      12439\n",
       "Wednesday    11152\n",
       "Thursday       307\n",
       "Name: Weekday, dtype: int64"
      ]
     },
     "execution_count": 13,
     "metadata": {},
     "output_type": "execute_result"
    }
   ],
   "source": [
    "my_data[\"Weekday\"].value_counts()"
   ]
  },
  {
   "cell_type": "markdown",
   "metadata": {
    "id": "QlUFAR-sBMzr"
   },
   "source": [
    "# Now lets solve the missing values in user_dob"
   ]
  },
  {
   "cell_type": "code",
   "execution_count": 14,
   "metadata": {
    "id": "Nm7C9p2nBdkF"
   },
   "outputs": [],
   "source": [
    "#there are 6989 missing values in the user_dob feature\n",
    "#now first replace with todays date "
   ]
  },
  {
   "cell_type": "code",
   "execution_count": 15,
   "metadata": {
    "colab": {
     "base_uri": "https://localhost:8080/"
    },
    "id": "wj3ko1HZDI5k",
    "outputId": "46b61181-de93-4eb0-c6d8-396adedae4af"
   },
   "outputs": [
    {
     "name": "stderr",
     "output_type": "stream",
     "text": [
      "<ipython-input-15-9d9cef12d517>:10: SettingWithCopyWarning: \n",
      "A value is trying to be set on a copy of a slice from a DataFrame.\n",
      "Try using .loc[row_indexer,col_indexer] = value instead\n",
      "\n",
      "See the caveats in the documentation: https://pandas.pydata.org/pandas-docs/stable/user_guide/indexing.html#returning-a-view-versus-a-copy\n",
      "  x0[y] =x0[y].map( lambda x : x0[y].median() if x <= 0 else x) #replacing returns  delivery time less than 0 with returns median\n",
      "<ipython-input-15-9d9cef12d517>:11: SettingWithCopyWarning: \n",
      "A value is trying to be set on a copy of a slice from a DataFrame.\n",
      "Try using .loc[row_indexer,col_indexer] = value instead\n",
      "\n",
      "See the caveats in the documentation: https://pandas.pydata.org/pandas-docs/stable/user_guide/indexing.html#returning-a-view-versus-a-copy\n",
      "  x1[y] =x1[y].map( lambda x : x1[y].median() if x <= 0 else x) #replacing non-returns delivery time less than 0 with non-returns median\n"
     ]
    }
   ],
   "source": [
    "my_data[\"user_dob\"]=my_data[\"user_dob\"].fillna(\"01-01-2022\")\n",
    "user_dob_1=[datetime.strptime(x, \"%d-%m-%Y\") for x in my_data[\"user_dob\"]]\n",
    "my_data[\"user_dob\"]=user_dob_1\n",
    "my_data[\"order_date\"]=[datetime.strptime(x, \"%d-%m-%Y\") for x in my_data[\"order_date\"]]\n",
    "my_data[\"age\"]=(my_data[\"order_date\"]-my_data[\"user_dob\"]).dt.days\n",
    "my_data[\"age\"]=round(my_data[\"age\"]/365)\n",
    "def imputing_age(x,y):\n",
    "    x0=x[x['return']==1] # subset comprising of return\n",
    "    x1=x[x['return']==0] # subset comprising of non-return\n",
    "    x0[y] =x0[y].map( lambda x : x0[y].median() if x <= 0 else x) #replacing returns  delivery time less than 0 with returns median\n",
    "    x1[y] =x1[y].map( lambda x : x1[y].median() if x <= 0 else x) #replacing non-returns delivery time less than 0 with non-returns median\n",
    "    return pd.concat([x0,x1])\n",
    "my_data=imputing_age(my_data,'age')    "
   ]
  },
  {
   "cell_type": "markdown",
   "metadata": {
    "id": "wqtNDSUHn-3d"
   },
   "source": [
    "### duration register_date and order date"
   ]
  },
  {
   "cell_type": "code",
   "execution_count": 16,
   "metadata": {
    "colab": {
     "base_uri": "https://localhost:8080/"
    },
    "id": "LUdmVZG-MZH2",
    "outputId": "acea21d8-7c9c-4653-cf1d-79d9b43b49e3"
   },
   "outputs": [
    {
     "name": "stderr",
     "output_type": "stream",
     "text": [
      "<ipython-input-16-d73bf60a7a54>:6: SettingWithCopyWarning: \n",
      "A value is trying to be set on a copy of a slice from a DataFrame.\n",
      "Try using .loc[row_indexer,col_indexer] = value instead\n",
      "\n",
      "See the caveats in the documentation: https://pandas.pydata.org/pandas-docs/stable/user_guide/indexing.html#returning-a-view-versus-a-copy\n",
      "  x0[y] =x0[y].map( lambda x : x0[y].median() if x <= 0 else x) #replacing returns  delivery time less than 0 with returns median\n",
      "<ipython-input-16-d73bf60a7a54>:7: SettingWithCopyWarning: \n",
      "A value is trying to be set on a copy of a slice from a DataFrame.\n",
      "Try using .loc[row_indexer,col_indexer] = value instead\n",
      "\n",
      "See the caveats in the documentation: https://pandas.pydata.org/pandas-docs/stable/user_guide/indexing.html#returning-a-view-versus-a-copy\n",
      "  x1[y] =x1[y].map( lambda x : x1[y].median() if x <= 0 else x) #replacing non-returns delivery time less than 0 with non-returns median\n"
     ]
    }
   ],
   "source": [
    "my_data[\"user_reg_date\"]=[datetime.strptime(x, \"%d-%m-%Y\") for x in my_data[\"user_reg_date\"]]\n",
    "my_data[\"order_reg_duration\"]=(my_data[\"order_date\"]-my_data[\"user_reg_date\"]).dt.days\n",
    "def imputing_order_reg_duration(x,y):\n",
    "    x0=x[x['return']==1] # subset comprising of return\n",
    "    x1=x[x['return']==0] # subset comprising of non-return\n",
    "    x0[y] =x0[y].map( lambda x : x0[y].median() if x <= 0 else x) #replacing returns  delivery time less than 0 with returns median\n",
    "    x1[y] =x1[y].map( lambda x : x1[y].median() if x <= 0 else x) #replacing non-returns delivery time less than 0 with non-returns median\n",
    "    return pd.concat([x0,x1])\n",
    "\n",
    "my_data=imputing_order_reg_duration(my_data,'order_reg_duration')"
   ]
  },
  {
   "cell_type": "markdown",
   "metadata": {
    "id": "hh413KcRfGoT"
   },
   "source": [
    "### feature engineering item_map_catergory"
   ]
  },
  {
   "cell_type": "code",
   "execution_count": 17,
   "metadata": {
    "id": "xLmEQShaqiZc"
   },
   "outputs": [],
   "source": [
    "def item_map_category(x):\n",
    "    x=x.replace(\"+\",\"\")\n",
    "    if x.isnumeric()==False:  \n",
    "        if x=='xxxl':\n",
    "            x=48\n",
    "        elif x=='xxl':\n",
    "            x=42\n",
    "        elif x=='xl':\n",
    "            x=40\n",
    "        elif x=='l':\n",
    "            x=38\n",
    "        elif x=='m':\n",
    "            x=29\n",
    "        elif x=='s':\n",
    "            x=10\n",
    "        elif x=='xs':\n",
    "            x=6\n",
    "        else: #for non-reported size we choosing mid value\n",
    "            x=40\n",
    "    return int(x)\n",
    "my_data['item_size_updated']=my_data[\"item_size\"].apply(item_map_category)"
   ]
  },
  {
   "cell_type": "code",
   "execution_count": 18,
   "metadata": {
    "colab": {
     "base_uri": "https://localhost:8080/",
     "height": 357
    },
    "id": "DepBJtmojBz-",
    "outputId": "f7b0eb02-3aaf-4370-e24c-038a2eeb7d7d"
   },
   "outputs": [
    {
     "data": {
      "text/html": [
       "<div>\n",
       "<style scoped>\n",
       "    .dataframe tbody tr th:only-of-type {\n",
       "        vertical-align: middle;\n",
       "    }\n",
       "\n",
       "    .dataframe tbody tr th {\n",
       "        vertical-align: top;\n",
       "    }\n",
       "\n",
       "    .dataframe thead th {\n",
       "        text-align: right;\n",
       "    }\n",
       "</style>\n",
       "<table border=\"1\" class=\"dataframe\">\n",
       "  <thead>\n",
       "    <tr style=\"text-align: right;\">\n",
       "      <th></th>\n",
       "      <th>order_item_id</th>\n",
       "      <th>order_date</th>\n",
       "      <th>delivery_date</th>\n",
       "      <th>item_id</th>\n",
       "      <th>item_size</th>\n",
       "      <th>item_color</th>\n",
       "      <th>brand_id</th>\n",
       "      <th>item_price</th>\n",
       "      <th>user_id</th>\n",
       "      <th>user_title</th>\n",
       "      <th>user_dob</th>\n",
       "      <th>user_state</th>\n",
       "      <th>user_reg_date</th>\n",
       "      <th>return</th>\n",
       "      <th>Delivery_time</th>\n",
       "      <th>Weekday</th>\n",
       "      <th>Month</th>\n",
       "      <th>age</th>\n",
       "      <th>order_reg_duration</th>\n",
       "      <th>item_size_updated</th>\n",
       "    </tr>\n",
       "  </thead>\n",
       "  <tbody>\n",
       "    <tr>\n",
       "      <th>1</th>\n",
       "      <td>10</td>\n",
       "      <td>2016-06-22</td>\n",
       "      <td>27-06-2016</td>\n",
       "      <td>195</td>\n",
       "      <td>xxl</td>\n",
       "      <td>grey</td>\n",
       "      <td>46</td>\n",
       "      <td>19.9</td>\n",
       "      <td>30823</td>\n",
       "      <td>Mrs</td>\n",
       "      <td>1970-04-22</td>\n",
       "      <td>1001</td>\n",
       "      <td>2015-03-15</td>\n",
       "      <td>1</td>\n",
       "      <td>5.0</td>\n",
       "      <td>Monday</td>\n",
       "      <td>June</td>\n",
       "      <td>46.0</td>\n",
       "      <td>465.0</td>\n",
       "      <td>42</td>\n",
       "    </tr>\n",
       "    <tr>\n",
       "      <th>4</th>\n",
       "      <td>43</td>\n",
       "      <td>2016-06-23</td>\n",
       "      <td>26-06-2016</td>\n",
       "      <td>394</td>\n",
       "      <td>40</td>\n",
       "      <td>black</td>\n",
       "      <td>44</td>\n",
       "      <td>90.0</td>\n",
       "      <td>30827</td>\n",
       "      <td>Mrs</td>\n",
       "      <td>2022-01-01</td>\n",
       "      <td>1006</td>\n",
       "      <td>2016-02-09</td>\n",
       "      <td>1</td>\n",
       "      <td>3.0</td>\n",
       "      <td>Sunday</td>\n",
       "      <td>June</td>\n",
       "      <td>50.0</td>\n",
       "      <td>135.0</td>\n",
       "      <td>40</td>\n",
       "    </tr>\n",
       "    <tr>\n",
       "      <th>5</th>\n",
       "      <td>45</td>\n",
       "      <td>2016-06-23</td>\n",
       "      <td>26-06-2016</td>\n",
       "      <td>448</td>\n",
       "      <td>42</td>\n",
       "      <td>bordeaux</td>\n",
       "      <td>72</td>\n",
       "      <td>59.9</td>\n",
       "      <td>30828</td>\n",
       "      <td>Mrs</td>\n",
       "      <td>1966-05-13</td>\n",
       "      <td>1008</td>\n",
       "      <td>2016-01-21</td>\n",
       "      <td>1</td>\n",
       "      <td>3.0</td>\n",
       "      <td>Sunday</td>\n",
       "      <td>June</td>\n",
       "      <td>50.0</td>\n",
       "      <td>154.0</td>\n",
       "      <td>42</td>\n",
       "    </tr>\n",
       "    <tr>\n",
       "      <th>6</th>\n",
       "      <td>48</td>\n",
       "      <td>2016-06-23</td>\n",
       "      <td>26-06-2016</td>\n",
       "      <td>32</td>\n",
       "      <td>l</td>\n",
       "      <td>white</td>\n",
       "      <td>3</td>\n",
       "      <td>21.9</td>\n",
       "      <td>30828</td>\n",
       "      <td>Mrs</td>\n",
       "      <td>1966-05-13</td>\n",
       "      <td>1008</td>\n",
       "      <td>2016-01-21</td>\n",
       "      <td>1</td>\n",
       "      <td>3.0</td>\n",
       "      <td>Sunday</td>\n",
       "      <td>June</td>\n",
       "      <td>50.0</td>\n",
       "      <td>154.0</td>\n",
       "      <td>38</td>\n",
       "    </tr>\n",
       "    <tr>\n",
       "      <th>8</th>\n",
       "      <td>101</td>\n",
       "      <td>2016-06-23</td>\n",
       "      <td>26-06-2016</td>\n",
       "      <td>434</td>\n",
       "      <td>xxl</td>\n",
       "      <td>magenta</td>\n",
       "      <td>28</td>\n",
       "      <td>59.9</td>\n",
       "      <td>5415</td>\n",
       "      <td>Mrs</td>\n",
       "      <td>1959-01-03</td>\n",
       "      <td>1002</td>\n",
       "      <td>2015-02-17</td>\n",
       "      <td>1</td>\n",
       "      <td>3.0</td>\n",
       "      <td>Sunday</td>\n",
       "      <td>June</td>\n",
       "      <td>58.0</td>\n",
       "      <td>492.0</td>\n",
       "      <td>42</td>\n",
       "    </tr>\n",
       "  </tbody>\n",
       "</table>\n",
       "</div>"
      ],
      "text/plain": [
       "   order_item_id order_date delivery_date  item_id item_size item_color  \\\n",
       "1             10 2016-06-22    27-06-2016      195       xxl       grey   \n",
       "4             43 2016-06-23    26-06-2016      394        40      black   \n",
       "5             45 2016-06-23    26-06-2016      448        42   bordeaux   \n",
       "6             48 2016-06-23    26-06-2016       32         l      white   \n",
       "8            101 2016-06-23    26-06-2016      434       xxl    magenta   \n",
       "\n",
       "   brand_id  item_price  user_id user_title   user_dob  user_state  \\\n",
       "1        46        19.9    30823        Mrs 1970-04-22        1001   \n",
       "4        44        90.0    30827        Mrs 2022-01-01        1006   \n",
       "5        72        59.9    30828        Mrs 1966-05-13        1008   \n",
       "6         3        21.9    30828        Mrs 1966-05-13        1008   \n",
       "8        28        59.9     5415        Mrs 1959-01-03        1002   \n",
       "\n",
       "  user_reg_date  return  Delivery_time Weekday Month   age  \\\n",
       "1    2015-03-15       1            5.0  Monday  June  46.0   \n",
       "4    2016-02-09       1            3.0  Sunday  June  50.0   \n",
       "5    2016-01-21       1            3.0  Sunday  June  50.0   \n",
       "6    2016-01-21       1            3.0  Sunday  June  50.0   \n",
       "8    2015-02-17       1            3.0  Sunday  June  58.0   \n",
       "\n",
       "   order_reg_duration  item_size_updated  \n",
       "1               465.0                 42  \n",
       "4               135.0                 40  \n",
       "5               154.0                 42  \n",
       "6               154.0                 38  \n",
       "8               492.0                 42  "
      ]
     },
     "execution_count": 18,
     "metadata": {},
     "output_type": "execute_result"
    }
   ],
   "source": [
    "my_data.head()"
   ]
  },
  {
   "cell_type": "code",
   "execution_count": 19,
   "metadata": {
    "colab": {
     "base_uri": "https://localhost:8080/"
    },
    "id": "WWqu25-PjHyO",
    "outputId": "f0ad0e57-27d9-407c-916b-54932370b908"
   },
   "outputs": [
    {
     "data": {
      "text/plain": [
       "Mrs             76267\n",
       "Mr               3141\n",
       "Family            339\n",
       "Company           105\n",
       "not reported       93\n",
       "Name: user_title, dtype: int64"
      ]
     },
     "execution_count": 19,
     "metadata": {},
     "output_type": "execute_result"
    }
   ],
   "source": [
    "my_data[\"user_title\"].value_counts()"
   ]
  },
  {
   "cell_type": "code",
   "execution_count": 20,
   "metadata": {
    "id": "XXpOkSk2Qysm"
   },
   "outputs": [],
   "source": [
    "my_data=my_data.drop([\"delivery_date\",\"order_item_id\",\"item_size\",\"item_color\",\"order_date\",\"user_reg_date\",\"user_dob\"],axis=1)"
   ]
  },
  {
   "cell_type": "code",
   "execution_count": 21,
   "metadata": {
    "id": "s0qL_BhLRmZd"
   },
   "outputs": [],
   "source": [
    "label_encoder = preprocessing.LabelEncoder()"
   ]
  },
  {
   "cell_type": "code",
   "execution_count": 22,
   "metadata": {
    "id": "72u63O_NKIQZ"
   },
   "outputs": [],
   "source": [
    "my_data['user_title']= label_encoder.fit_transform(my_data['user_title'])\n",
    "my_data['Weekday']= label_encoder.fit_transform(my_data['Weekday'])\n",
    "my_data['Month']= label_encoder.fit_transform(my_data['Month'])"
   ]
  },
  {
   "cell_type": "code",
   "execution_count": 23,
   "metadata": {
    "colab": {
     "base_uri": "https://localhost:8080/"
    },
    "id": "MeTK0oKJjO_E",
    "outputId": "7fd3f61a-ecdb-4c25-9723-14a762aeb535"
   },
   "outputs": [
    {
     "data": {
      "text/plain": [
       "2    25802\n",
       "0    15227\n",
       "1    15018\n",
       "4    12439\n",
       "5    11152\n",
       "3      307\n",
       "Name: Weekday, dtype: int64"
      ]
     },
     "execution_count": 23,
     "metadata": {},
     "output_type": "execute_result"
    }
   ],
   "source": [
    "my_data[\"Weekday\"].value_counts()"
   ]
  },
  {
   "cell_type": "code",
   "execution_count": 24,
   "metadata": {
    "colab": {
     "base_uri": "https://localhost:8080/"
    },
    "id": "Gs3ANYTqjTCU",
    "outputId": "d3bac5c3-4273-4e63-8b59-3811ac922480"
   },
   "outputs": [
    {
     "data": {
      "text/plain": [
       "0    36865\n",
       "3    22759\n",
       "7    10741\n",
       "4     6197\n",
       "6     1669\n",
       "1      899\n",
       "5      812\n",
       "2        3\n",
       "Name: Month, dtype: int64"
      ]
     },
     "execution_count": 24,
     "metadata": {},
     "output_type": "execute_result"
    }
   ],
   "source": [
    "my_data[\"Month\"].value_counts()"
   ]
  },
  {
   "cell_type": "code",
   "execution_count": 25,
   "metadata": {
    "colab": {
     "base_uri": "https://localhost:8080/"
    },
    "id": "DONNWQnsjXNd",
    "outputId": "9a12d329-ce9e-4ba9-e1e7-622d8e735319"
   },
   "outputs": [
    {
     "data": {
      "text/plain": [
       "3    76267\n",
       "2     3141\n",
       "1      339\n",
       "0      105\n",
       "4       93\n",
       "Name: user_title, dtype: int64"
      ]
     },
     "execution_count": 25,
     "metadata": {},
     "output_type": "execute_result"
    }
   ],
   "source": [
    "my_data[\"user_title\"].value_counts()"
   ]
  },
  {
   "cell_type": "markdown",
   "metadata": {
    "id": "NidXCDxIs_Oj"
   },
   "source": [
    "# Data Preprocessing"
   ]
  },
  {
   "cell_type": "code",
   "execution_count": 26,
   "metadata": {
    "colab": {
     "base_uri": "https://localhost:8080/",
     "height": 880
    },
    "id": "Odn6wNy3LGgQ",
    "outputId": "6512e31e-a3ef-48d8-e790-fc505ec9b4c3"
   },
   "outputs": [
    {
     "data": {
      "text/plain": [
       "<matplotlib.axes._subplots.AxesSubplot at 0x22d184ff9a0>"
      ]
     },
     "execution_count": 26,
     "metadata": {},
     "output_type": "execute_result"
    },
    {
     "data": {
      "image/png": "[encoded data removed]",
      "text/plain": [
       "<Figure size 1080x1080 with 1 Axes>"
      ]
     },
     "metadata": {
      "needs_background": "light"
     },
     "output_type": "display_data"
    }
   ],
   "source": [
    "plt.figure(figsize=(15,15)) \n",
    "plt.style.use('ggplot')\n",
    "sns.boxplot(data = my_data,width=.8,orient=\"h\") \n",
    "##we are using model that is prone to outliers"
   ]
  },
  {
   "cell_type": "code",
   "execution_count": 27,
   "metadata": {
    "colab": {
     "base_uri": "https://localhost:8080/"
    },
    "id": "WlSif1tkLWVz",
    "outputId": "0707fcc7-5fa2-4fd0-ef86-0deab22a2520"
   },
   "outputs": [
    {
     "data": {
      "text/plain": [
       "0    43283\n",
       "1    36662\n",
       "Name: return, dtype: int64"
      ]
     },
     "execution_count": 27,
     "metadata": {},
     "output_type": "execute_result"
    }
   ],
   "source": [
    "my_data[\"return\"].value_counts()    #target data is almost balanced data"
   ]
  },
  {
   "cell_type": "code",
   "execution_count": 28,
   "metadata": {
    "colab": {
     "base_uri": "https://localhost:8080/",
     "height": 820
    },
    "id": "i-AcQ8VULPhp",
    "outputId": "8cac846b-fe74-444a-c8b8-560bbb31bfd8"
   },
   "outputs": [
    {
     "data": {
      "text/plain": [
       "<matplotlib.axes._subplots.AxesSubplot at 0x22d1858f160>"
      ]
     },
     "execution_count": 28,
     "metadata": {},
     "output_type": "execute_result"
    },
    {
     "data": {
      "image/png": "[encoded data removed]",
      "text/plain": [
       "<Figure size 864x864 with 2 Axes>"
      ]
     },
     "metadata": {},
     "output_type": "display_data"
    }
   ],
   "source": [
    "plt.figure(figsize=(12,12))\n",
    "corr=my_data.corr()\n",
    "plt.title(\"Correlation Matrix\",fontsize=\"15\")\n",
    "sns.heatmap(corr,annot=True,cmap ='RdYlGn')"
   ]
  },
  {
   "cell_type": "code",
   "execution_count": 29,
   "metadata": {
    "id": "zIUpP769LOHa"
   },
   "outputs": [],
   "source": [
    "x = my_data.drop(['return'],axis=1) #training features\n",
    "y = my_data['return'] # target variable\n",
    "\n"
   ]
  },
  {
   "cell_type": "code",
   "execution_count": 30,
   "metadata": {
    "id": "XXPXzBVNOoYC"
   },
   "outputs": [],
   "source": [
    "X_train, X_test, y_train, y_test= train_test_split(x, y, test_size=0.15, random_state=42)"
   ]
  },
  {
   "cell_type": "code",
   "execution_count": 31,
   "metadata": {
    "colab": {
     "base_uri": "https://localhost:8080/"
    },
    "id": "tXcjTdMupy0h",
    "outputId": "d2efdd13-00fb-4af3-a75d-e1030a733982"
   },
   "outputs": [
    {
     "data": {
      "text/plain": [
       "(67953, 12)"
      ]
     },
     "execution_count": 31,
     "metadata": {},
     "output_type": "execute_result"
    }
   ],
   "source": [
    "X_train.shape"
   ]
  },
  {
   "cell_type": "code",
   "execution_count": 32,
   "metadata": {
    "id": "f_ASg3d8R8OY"
   },
   "outputs": [],
   "source": [
    "clf =RandomForestClassifier(random_state=1,n_estimators=200,class_weight='balanced',\n",
    "                    min_samples_leaf=5,\n",
    "                       min_samples_split=10)\n",
    "\n",
    "# Train Decision Tree Classifer\n",
    "clf = clf.fit(X_train,y_train)\n",
    "y_pred = clf.predict(X_test) #use the model to predict on the validation data"
   ]
  },
  {
   "cell_type": "code",
   "execution_count": 33,
   "metadata": {
    "colab": {
     "base_uri": "https://localhost:8080/"
    },
    "id": "KDntuv79SFyz",
    "outputId": "64d3dbbb-d270-4b20-d40d-adae058ddf79"
   },
   "outputs": [
    {
     "name": "stdout",
     "output_type": "stream",
     "text": [
      "Accuracy on test  is: 0.7360740493662442\n"
     ]
    }
   ],
   "source": [
    "print(\"Accuracy on test  is:\",accuracy_score(y_test,y_pred))"
   ]
  },
  {
   "cell_type": "code",
   "execution_count": 34,
   "metadata": {
    "id": "2zEGgI5TZTqX"
   },
   "outputs": [],
   "source": [
    "#i got around 74% of accuracy on test data."
   ]
  },
  {
   "cell_type": "markdown",
   "metadata": {
    "id": "KLX62nQ6bgHw"
   },
   "source": [
    "# CROSS VALIDATION "
   ]
  },
  {
   "cell_type": "code",
   "execution_count": 35,
   "metadata": {
    "id": "gWpbcnLcZu_1"
   },
   "outputs": [],
   "source": [
    "scores = cross_val_score(clf, x, y, cv=5)"
   ]
  },
  {
   "cell_type": "code",
   "execution_count": 36,
   "metadata": {
    "colab": {
     "base_uri": "https://localhost:8080/"
    },
    "id": "qy9XAYYKZ6mi",
    "outputId": "dbd8f8a6-7a00-4a84-b012-a11ca0730e37"
   },
   "outputs": [
    {
     "data": {
      "text/plain": [
       "array([0.73706924, 0.7405091 , 0.74063419, 0.74219776, 0.73375446])"
      ]
     },
     "execution_count": 36,
     "metadata": {},
     "output_type": "execute_result"
    }
   ],
   "source": [
    "scores"
   ]
  },
  {
   "cell_type": "code",
   "execution_count": 37,
   "metadata": {
    "colab": {
     "base_uri": "https://localhost:8080/"
    },
    "id": "oIayeT4fbof6",
    "outputId": "2a1b39be-076c-4a41-c5aa-57043afbe21c"
   },
   "outputs": [
    {
     "data": {
      "text/plain": [
       "0.7388329476515104"
      ]
     },
     "execution_count": 37,
     "metadata": {},
     "output_type": "execute_result"
    }
   ],
   "source": [
    "scores.mean()"
   ]
  },
  {
   "cell_type": "markdown",
   "metadata": {
    "id": "KqfLxl2vbu-b"
   },
   "source": [
    "### CROSS VALIDATION FOR CV=5 IS AROUND 0.74"
   ]
  },
  {
   "cell_type": "markdown",
   "metadata": {
    "id": "MPuLx370b3gT"
   },
   "source": [
    "# PERFORMANCE METRICS"
   ]
  },
  {
   "cell_type": "code",
   "execution_count": 38,
   "metadata": {
    "colab": {
     "base_uri": "https://localhost:8080/",
     "height": 316
    },
    "id": "f4Bl95JkaRpE",
    "outputId": "5ff393bd-0ba7-4802-c56b-a67f133c5581"
   },
   "outputs": [
    {
     "data": {
      "text/plain": [
       "Text(0.5, 15.0, 'Predicted label')"
      ]
     },
     "execution_count": 38,
     "metadata": {},
     "output_type": "execute_result"
    },
    {
     "data": {
      "image/png": "[encoded data removed]",
      "text/plain": [
       "<Figure size 432x288 with 2 Axes>"
      ]
     },
     "metadata": {},
     "output_type": "display_data"
    }
   ],
   "source": [
    "from sklearn import metrics\n",
    "cnf_matrix = metrics.confusion_matrix(y_test, y_pred)\n",
    "p = sns.heatmap(pd.DataFrame(cnf_matrix), annot=True, cmap=\"YlGnBu\" ,fmt='g')\n",
    "plt.title('Confusion matrix', y=1.1)\n",
    "plt.ylabel('Actual label')\n",
    "plt.xlabel('Predicted label')"
   ]
  },
  {
   "cell_type": "code",
   "execution_count": 39,
   "metadata": {
    "colab": {
     "base_uri": "https://localhost:8080/"
    },
    "id": "tzJer0pOaqap",
    "outputId": "fb1ba097-8eb5-41e7-f3f0-9b8a8a475d48"
   },
   "outputs": [
    {
     "name": "stdout",
     "output_type": "stream",
     "text": [
      "              precision    recall  f1-score   support\n",
      "\n",
      "           0       0.79      0.70      0.74      6564\n",
      "           1       0.68      0.78      0.73      5428\n",
      "\n",
      "    accuracy                           0.74     11992\n",
      "   macro avg       0.74      0.74      0.74     11992\n",
      "weighted avg       0.74      0.74      0.74     11992\n",
      "\n"
     ]
    }
   ],
   "source": [
    "from sklearn.metrics import classification_report\n",
    "print(classification_report(y_test,y_pred))"
   ]
  },
  {
   "cell_type": "code",
   "execution_count": 40,
   "metadata": {
    "colab": {
     "base_uri": "https://localhost:8080/"
    },
    "id": "4FUGfQYmau_F",
    "outputId": "bf045656-8008-4b4d-ab9d-62c936f59cc5"
   },
   "outputs": [
    {
     "data": {
      "text/plain": [
       "array([0.03361631, 0.61568627, 0.47363559, ..., 0.68826697, 0.74864228,\n",
       "       0.15851992])"
      ]
     },
     "execution_count": 40,
     "metadata": {},
     "output_type": "execute_result"
    }
   ],
   "source": [
    "from sklearn.metrics import roc_curve\n",
    "y_pred_proba = clf.predict_proba(X_test)[:,1]\n",
    "y_pred_proba"
   ]
  },
  {
   "cell_type": "code",
   "execution_count": 41,
   "metadata": {
    "colab": {
     "base_uri": "https://localhost:8080/"
    },
    "id": "gce5WBHka38e",
    "outputId": "2df2830f-41bb-4bd1-d4f6-5706b5b2fda4"
   },
   "outputs": [
    {
     "data": {
      "text/plain": [
       "0.8386"
      ]
     },
     "execution_count": 41,
     "metadata": {},
     "output_type": "execute_result"
    }
   ],
   "source": [
    "from sklearn.metrics import roc_auc_score\n",
    "legend_data=roc_auc_score(y_test,y_pred_proba)\n",
    "legend_data=round(legend_data,4)\n",
    "legend_data"
   ]
  },
  {
   "cell_type": "code",
   "execution_count": 42,
   "metadata": {
    "id": "KUdLtcAha-1O"
   },
   "outputs": [],
   "source": [
    "fpr, tpr, thresholds = roc_curve(y_test, y_pred_proba)"
   ]
  },
  {
   "cell_type": "code",
   "execution_count": 43,
   "metadata": {
    "colab": {
     "base_uri": "https://localhost:8080/",
     "height": 298
    },
    "id": "du_yqzuxbD5d",
    "outputId": "147f8eb0-a5a8-453a-b93f-2921778658fd"
   },
   "outputs": [
    {
     "data": {
      "image/png": "[encoded data removed]",
      "text/plain": [
       "<Figure size 432x288 with 1 Axes>"
      ]
     },
     "metadata": {},
     "output_type": "display_data"
    }
   ],
   "source": [
    "plt.style.use('ggplot')\n",
    "plt.plot(fpr,tpr, label='clf',color='orange')\n",
    "plt.plot([0,1],[0,1],'k--',color='navy')\n",
    "plt.xlabel('fpr')\n",
    "plt.ylabel('tpr')\n",
    "plt.title(' ROC curve')\n",
    "plt.legend([\"AUC=0.838\"], loc =\"lower right\") \n",
    "plt.show()"
   ]
  },
  {
   "cell_type": "code",
   "execution_count": null,
   "metadata": {},
   "outputs": [],
   "source": []
  },
  {
   "cell_type": "markdown",
   "metadata": {
    "id": "YaYljDcMLJKL"
   },
   "source": [
    "# Testing Phase\n"
   ]
  },
  {
   "cell_type": "code",
   "execution_count": 130,
   "metadata": {
    "id": "ViX0yXgTBU4p"
   },
   "outputs": [],
   "source": [
    "my_data_testing=pd.read_excel(r\"C:\\Users\\USER\\Desktop\\round_1\\TestingData_For_Candidate (1).xlsx\")"
   ]
  },
  {
   "cell_type": "code",
   "execution_count": 131,
   "metadata": {
    "id": "C52a8Wxlds_c"
   },
   "outputs": [
    {
     "data": {
      "text/plain": [
       "order_item_id       0\n",
       "order_date          0\n",
       "delivery_date    1882\n",
       "item_id             0\n",
       "item_size           0\n",
       "item_color          0\n",
       "brand_id            0\n",
       "item_price          0\n",
       "user_id             0\n",
       "user_title          0\n",
       "user_dob         1736\n",
       "user_state          0\n",
       "user_reg_date       0\n",
       "dtype: int64"
      ]
     },
     "execution_count": 131,
     "metadata": {},
     "output_type": "execute_result"
    }
   ],
   "source": [
    "my_data_testing.isna().sum()"
   ]
  },
  {
   "cell_type": "code",
   "execution_count": 132,
   "metadata": {
    "id": "SO8n_vGWGKgs"
   },
   "outputs": [
    {
     "data": {
      "text/html": [
       "<div>\n",
       "<style scoped>\n",
       "    .dataframe tbody tr th:only-of-type {\n",
       "        vertical-align: middle;\n",
       "    }\n",
       "\n",
       "    .dataframe tbody tr th {\n",
       "        vertical-align: top;\n",
       "    }\n",
       "\n",
       "    .dataframe thead th {\n",
       "        text-align: right;\n",
       "    }\n",
       "</style>\n",
       "<table border=\"1\" class=\"dataframe\">\n",
       "  <thead>\n",
       "    <tr style=\"text-align: right;\">\n",
       "      <th></th>\n",
       "      <th>order_item_id</th>\n",
       "      <th>order_date</th>\n",
       "      <th>delivery_date</th>\n",
       "      <th>item_id</th>\n",
       "      <th>item_size</th>\n",
       "      <th>item_color</th>\n",
       "      <th>brand_id</th>\n",
       "      <th>item_price</th>\n",
       "      <th>user_id</th>\n",
       "      <th>user_title</th>\n",
       "      <th>user_dob</th>\n",
       "      <th>user_state</th>\n",
       "      <th>user_reg_date</th>\n",
       "    </tr>\n",
       "  </thead>\n",
       "  <tbody>\n",
       "    <tr>\n",
       "      <th>0</th>\n",
       "      <td>26</td>\n",
       "      <td>2016-06-23</td>\n",
       "      <td>2016-06-26</td>\n",
       "      <td>92</td>\n",
       "      <td>xl</td>\n",
       "      <td>turquoise</td>\n",
       "      <td>42</td>\n",
       "      <td>69.90</td>\n",
       "      <td>9392</td>\n",
       "      <td>Mrs</td>\n",
       "      <td>1962-04-14</td>\n",
       "      <td>1010</td>\n",
       "      <td>2016-03-24</td>\n",
       "    </tr>\n",
       "    <tr>\n",
       "      <th>1</th>\n",
       "      <td>28</td>\n",
       "      <td>2016-06-23</td>\n",
       "      <td>2016-07-02</td>\n",
       "      <td>2</td>\n",
       "      <td>xxl</td>\n",
       "      <td>green</td>\n",
       "      <td>2</td>\n",
       "      <td>19.90</td>\n",
       "      <td>9392</td>\n",
       "      <td>Mrs</td>\n",
       "      <td>1962-04-14</td>\n",
       "      <td>1010</td>\n",
       "      <td>2016-03-24</td>\n",
       "    </tr>\n",
       "    <tr>\n",
       "      <th>2</th>\n",
       "      <td>37</td>\n",
       "      <td>2016-06-23</td>\n",
       "      <td>2016-06-26</td>\n",
       "      <td>895</td>\n",
       "      <td>38</td>\n",
       "      <td>white</td>\n",
       "      <td>39</td>\n",
       "      <td>39.95</td>\n",
       "      <td>30826</td>\n",
       "      <td>Mrs</td>\n",
       "      <td>1964-04-27</td>\n",
       "      <td>1001</td>\n",
       "      <td>2015-02-17</td>\n",
       "    </tr>\n",
       "    <tr>\n",
       "      <th>3</th>\n",
       "      <td>56</td>\n",
       "      <td>2016-06-23</td>\n",
       "      <td>NaT</td>\n",
       "      <td>5</td>\n",
       "      <td>l</td>\n",
       "      <td>white</td>\n",
       "      <td>5</td>\n",
       "      <td>69.90</td>\n",
       "      <td>30828</td>\n",
       "      <td>Mrs</td>\n",
       "      <td>1966-05-13</td>\n",
       "      <td>1008</td>\n",
       "      <td>2016-01-21</td>\n",
       "    </tr>\n",
       "    <tr>\n",
       "      <th>4</th>\n",
       "      <td>65</td>\n",
       "      <td>2016-06-23</td>\n",
       "      <td>NaT</td>\n",
       "      <td>55</td>\n",
       "      <td>40</td>\n",
       "      <td>purple</td>\n",
       "      <td>1</td>\n",
       "      <td>89.90</td>\n",
       "      <td>22948</td>\n",
       "      <td>Mrs</td>\n",
       "      <td>1957-03-11</td>\n",
       "      <td>1001</td>\n",
       "      <td>2015-02-17</td>\n",
       "    </tr>\n",
       "  </tbody>\n",
       "</table>\n",
       "</div>"
      ],
      "text/plain": [
       "   order_item_id order_date delivery_date  item_id item_size item_color  \\\n",
       "0             26 2016-06-23    2016-06-26       92        xl  turquoise   \n",
       "1             28 2016-06-23    2016-07-02        2       xxl      green   \n",
       "2             37 2016-06-23    2016-06-26      895        38      white   \n",
       "3             56 2016-06-23           NaT        5         l      white   \n",
       "4             65 2016-06-23           NaT       55        40     purple   \n",
       "\n",
       "   brand_id  item_price  user_id user_title   user_dob  user_state  \\\n",
       "0        42       69.90     9392        Mrs 1962-04-14        1010   \n",
       "1         2       19.90     9392        Mrs 1962-04-14        1010   \n",
       "2        39       39.95    30826        Mrs 1964-04-27        1001   \n",
       "3         5       69.90    30828        Mrs 1966-05-13        1008   \n",
       "4         1       89.90    22948        Mrs 1957-03-11        1001   \n",
       "\n",
       "  user_reg_date  \n",
       "0    2016-03-24  \n",
       "1    2016-03-24  \n",
       "2    2015-02-17  \n",
       "3    2016-01-21  \n",
       "4    2015-02-17  "
      ]
     },
     "execution_count": 132,
     "metadata": {},
     "output_type": "execute_result"
    }
   ],
   "source": [
    "my_data_testing.head()"
   ]
  },
  {
   "cell_type": "code",
   "execution_count": 133,
   "metadata": {
    "id": "AEVimoAuOojl"
   },
   "outputs": [
    {
     "name": "stderr",
     "output_type": "stream",
     "text": [
      "<ipython-input-133-37b82029c54e>:12: SettingWithCopyWarning: \n",
      "A value is trying to be set on a copy of a slice from a DataFrame\n",
      "\n",
      "See the caveats in the documentation: https://pandas.pydata.org/pandas-docs/stable/user_guide/indexing.html#returning-a-view-versus-a-copy\n",
      "  my_data_testing[\"Delivery_time\"][my_data_testing[\"Delivery_time\"]<0]=3.0\n"
     ]
    }
   ],
   "source": [
    "my_data_testing[\"delivery_date\"]=[str(x).split(\" \")[0] for x in my_data_testing[\"delivery_date\"]]\n",
    "my_data_testing[\"delivery_date\"]=my_data_testing[\"delivery_date\"].replace(to_replace =\"NaT\",\n",
    "                 value =\"1900-01-01\")\n",
    "my_data_testing[\"user_dob\"]=[str(x).split(\" \")[0] for x in my_data_testing[\"user_dob\"]]\n",
    "my_data_testing[\"user_dob\"]=my_data_testing[\"user_dob\"].replace(to_replace =\"NaT\",\n",
    "                 value =\"2022-01-01\")\n",
    "my_data_testing[\"delivery_date\"]=pd.to_datetime(my_data_testing[\"delivery_date\"])\n",
    "my_data_testing[\"Delivery_time\"]=my_data_testing[\"delivery_date\"]-my_data_testing[\"order_date\"]\n",
    "my_data_testing[\"Delivery_time\"]=[str(x).split(\" \")[0] for x in my_data_testing[\"Delivery_time\"]]\n",
    "my_data_testing[\"Delivery_time\"]=my_data_testing[\"Delivery_time\"].apply(int)\n",
    "my_data_testing[\"Delivery_time\"][my_data_testing[\"Delivery_time\"]>0].median()\n",
    "my_data_testing[\"Delivery_time\"][my_data_testing[\"Delivery_time\"]<0]=3.0"
   ]
  },
  {
   "cell_type": "code",
   "execution_count": 134,
   "metadata": {
    "id": "VrECXSFxUPce"
   },
   "outputs": [],
   "source": [
    "weekday_list=[]\n",
    "for i in my_data_testing[\"delivery_date\"]:\n",
    "  if str(i)==\"1900-01-01 00:00:00\":\n",
    "    weekday_list.append(\"missing\")\n",
    "  else:\n",
    "    weekday_list.append(str(i))\n",
    "\n",
    "\n",
    "my_data_testing[\"weekday_dummy\"]=weekday_list\n",
    "my_data_testing[\"weekday_dummy\"]=[x.split(\" \")[0] for x in my_data_testing[\"weekday_dummy\"]]  \n",
    "\n",
    "weekday_final=[]\n",
    "for i in my_data_testing[\"weekday_dummy\"]:\n",
    "  if i != \"missing\":\n",
    "    i=datetime.fromisoformat(i)\n",
    "    output=i.strftime('%A')\n",
    "    weekday_final.append(output)\n",
    "  else:\n",
    "    weekday_final.append(i)  \n",
    "my_data_testing[\"weekday_dummy\"]=weekday_final   \n",
    "my_data_testing[\"Weekday\"]=my_data_testing[\"weekday_dummy\"].replace(to_replace =\"missing\",\n",
    "                 value =\"Sunday\") "
   ]
  },
  {
   "cell_type": "code",
   "execution_count": 135,
   "metadata": {
    "id": "v2rCHDnRjxU5"
   },
   "outputs": [],
   "source": [
    "month_list=[]\n",
    "for i in my_data_testing[\"delivery_date\"]:\n",
    "  if str(i)==\"1900-01-01 00:00:00\":\n",
    "    month_list.append(\"missing\")\n",
    "  else:\n",
    "    month_list.append(str(i))\n",
    "\n",
    "\n",
    "my_data_testing[\"month_dummy\"]=month_list\n",
    "my_data_testing[\"month_dummy\"]=[x.split(\" \")[0] for x in my_data_testing[\"month_dummy\"]]  \n",
    "\n",
    "month_final=[]\n",
    "for i in my_data_testing[\"month_dummy\"]:\n",
    "  if i != \"missing\":\n",
    "    i=datetime.fromisoformat(i)\n",
    "    output=i.strftime('%B')\n",
    "    month_final.append(output)\n",
    "  else:\n",
    "    month_final.append(i)  \n",
    "\n",
    "my_data_testing[\"month_dummy\"]=month_final   \n",
    "my_data_testing[\"Month\"]=my_data_testing[\"month_dummy\"].replace(to_replace =\"missing\",\n",
    "                 value =\"August\")\n",
    "\n",
    " "
   ]
  },
  {
   "cell_type": "code",
   "execution_count": null,
   "metadata": {
    "id": "2cmiHF5ZlkXG"
   },
   "outputs": [],
   "source": []
  },
  {
   "cell_type": "code",
   "execution_count": 136,
   "metadata": {
    "id": "Eeq1WJyQYW5v"
   },
   "outputs": [
    {
     "data": {
      "text/html": [
       "<div>\n",
       "<style scoped>\n",
       "    .dataframe tbody tr th:only-of-type {\n",
       "        vertical-align: middle;\n",
       "    }\n",
       "\n",
       "    .dataframe tbody tr th {\n",
       "        vertical-align: top;\n",
       "    }\n",
       "\n",
       "    .dataframe thead th {\n",
       "        text-align: right;\n",
       "    }\n",
       "</style>\n",
       "<table border=\"1\" class=\"dataframe\">\n",
       "  <thead>\n",
       "    <tr style=\"text-align: right;\">\n",
       "      <th></th>\n",
       "      <th>order_item_id</th>\n",
       "      <th>order_date</th>\n",
       "      <th>delivery_date</th>\n",
       "      <th>item_id</th>\n",
       "      <th>item_size</th>\n",
       "      <th>item_color</th>\n",
       "      <th>brand_id</th>\n",
       "      <th>item_price</th>\n",
       "      <th>user_id</th>\n",
       "      <th>user_title</th>\n",
       "      <th>user_dob</th>\n",
       "      <th>user_state</th>\n",
       "      <th>user_reg_date</th>\n",
       "      <th>Delivery_time</th>\n",
       "      <th>weekday_dummy</th>\n",
       "      <th>Weekday</th>\n",
       "      <th>month_dummy</th>\n",
       "      <th>Month</th>\n",
       "    </tr>\n",
       "  </thead>\n",
       "  <tbody>\n",
       "    <tr>\n",
       "      <th>0</th>\n",
       "      <td>26</td>\n",
       "      <td>2016-06-23</td>\n",
       "      <td>2016-06-26</td>\n",
       "      <td>92</td>\n",
       "      <td>xl</td>\n",
       "      <td>turquoise</td>\n",
       "      <td>42</td>\n",
       "      <td>69.90</td>\n",
       "      <td>9392</td>\n",
       "      <td>Mrs</td>\n",
       "      <td>1962-04-14</td>\n",
       "      <td>1010</td>\n",
       "      <td>2016-03-24</td>\n",
       "      <td>3</td>\n",
       "      <td>Sunday</td>\n",
       "      <td>Sunday</td>\n",
       "      <td>June</td>\n",
       "      <td>June</td>\n",
       "    </tr>\n",
       "    <tr>\n",
       "      <th>1</th>\n",
       "      <td>28</td>\n",
       "      <td>2016-06-23</td>\n",
       "      <td>2016-07-02</td>\n",
       "      <td>2</td>\n",
       "      <td>xxl</td>\n",
       "      <td>green</td>\n",
       "      <td>2</td>\n",
       "      <td>19.90</td>\n",
       "      <td>9392</td>\n",
       "      <td>Mrs</td>\n",
       "      <td>1962-04-14</td>\n",
       "      <td>1010</td>\n",
       "      <td>2016-03-24</td>\n",
       "      <td>9</td>\n",
       "      <td>Saturday</td>\n",
       "      <td>Saturday</td>\n",
       "      <td>July</td>\n",
       "      <td>July</td>\n",
       "    </tr>\n",
       "    <tr>\n",
       "      <th>2</th>\n",
       "      <td>37</td>\n",
       "      <td>2016-06-23</td>\n",
       "      <td>2016-06-26</td>\n",
       "      <td>895</td>\n",
       "      <td>38</td>\n",
       "      <td>white</td>\n",
       "      <td>39</td>\n",
       "      <td>39.95</td>\n",
       "      <td>30826</td>\n",
       "      <td>Mrs</td>\n",
       "      <td>1964-04-27</td>\n",
       "      <td>1001</td>\n",
       "      <td>2015-02-17</td>\n",
       "      <td>3</td>\n",
       "      <td>Sunday</td>\n",
       "      <td>Sunday</td>\n",
       "      <td>June</td>\n",
       "      <td>June</td>\n",
       "    </tr>\n",
       "    <tr>\n",
       "      <th>3</th>\n",
       "      <td>56</td>\n",
       "      <td>2016-06-23</td>\n",
       "      <td>1900-01-01</td>\n",
       "      <td>5</td>\n",
       "      <td>l</td>\n",
       "      <td>white</td>\n",
       "      <td>5</td>\n",
       "      <td>69.90</td>\n",
       "      <td>30828</td>\n",
       "      <td>Mrs</td>\n",
       "      <td>1966-05-13</td>\n",
       "      <td>1008</td>\n",
       "      <td>2016-01-21</td>\n",
       "      <td>3</td>\n",
       "      <td>missing</td>\n",
       "      <td>Sunday</td>\n",
       "      <td>missing</td>\n",
       "      <td>August</td>\n",
       "    </tr>\n",
       "    <tr>\n",
       "      <th>4</th>\n",
       "      <td>65</td>\n",
       "      <td>2016-06-23</td>\n",
       "      <td>1900-01-01</td>\n",
       "      <td>55</td>\n",
       "      <td>40</td>\n",
       "      <td>purple</td>\n",
       "      <td>1</td>\n",
       "      <td>89.90</td>\n",
       "      <td>22948</td>\n",
       "      <td>Mrs</td>\n",
       "      <td>1957-03-11</td>\n",
       "      <td>1001</td>\n",
       "      <td>2015-02-17</td>\n",
       "      <td>3</td>\n",
       "      <td>missing</td>\n",
       "      <td>Sunday</td>\n",
       "      <td>missing</td>\n",
       "      <td>August</td>\n",
       "    </tr>\n",
       "  </tbody>\n",
       "</table>\n",
       "</div>"
      ],
      "text/plain": [
       "   order_item_id order_date delivery_date  item_id item_size item_color  \\\n",
       "0             26 2016-06-23    2016-06-26       92        xl  turquoise   \n",
       "1             28 2016-06-23    2016-07-02        2       xxl      green   \n",
       "2             37 2016-06-23    2016-06-26      895        38      white   \n",
       "3             56 2016-06-23    1900-01-01        5         l      white   \n",
       "4             65 2016-06-23    1900-01-01       55        40     purple   \n",
       "\n",
       "   brand_id  item_price  user_id user_title    user_dob  user_state  \\\n",
       "0        42       69.90     9392        Mrs  1962-04-14        1010   \n",
       "1         2       19.90     9392        Mrs  1962-04-14        1010   \n",
       "2        39       39.95    30826        Mrs  1964-04-27        1001   \n",
       "3         5       69.90    30828        Mrs  1966-05-13        1008   \n",
       "4         1       89.90    22948        Mrs  1957-03-11        1001   \n",
       "\n",
       "  user_reg_date  Delivery_time weekday_dummy   Weekday month_dummy   Month  \n",
       "0    2016-03-24              3        Sunday    Sunday        June    June  \n",
       "1    2016-03-24              9      Saturday  Saturday        July    July  \n",
       "2    2015-02-17              3        Sunday    Sunday        June    June  \n",
       "3    2016-01-21              3       missing    Sunday     missing  August  \n",
       "4    2015-02-17              3       missing    Sunday     missing  August  "
      ]
     },
     "execution_count": 136,
     "metadata": {},
     "output_type": "execute_result"
    }
   ],
   "source": [
    "my_data_testing.head()"
   ]
  },
  {
   "cell_type": "code",
   "execution_count": 137,
   "metadata": {
    "id": "U79J0jiocHV0"
   },
   "outputs": [],
   "source": [
    "my_data_testing[\"order_reg_duration\"]=my_data_testing[\"order_date\"]-my_data_testing[\"user_reg_date\"]\n",
    "my_data_testing[\"order_reg_duration\"]=[str(x).split(\" \")[0] for x in my_data_testing[\"order_reg_duration\"]]\n",
    "my_data_testing[\"order_reg_duration\"]=my_data_testing[\"order_reg_duration\"].apply(float)\n",
    "my_data_testing[\"order_reg_duration\"]=my_data_testing[\"order_reg_duration\"].abs()\n",
    "#order_reg_duration"
   ]
  },
  {
   "cell_type": "code",
   "execution_count": 110,
   "metadata": {
    "id": "NjCuWmbheuX3"
   },
   "outputs": [
    {
     "name": "stdout",
     "output_type": "stream",
     "text": [
      "<class 'pandas.core.frame.DataFrame'>\n",
      "RangeIndex: 20055 entries, 0 to 20054\n",
      "Data columns (total 19 columns):\n",
      " #   Column              Non-Null Count  Dtype         \n",
      "---  ------              --------------  -----         \n",
      " 0   order_item_id       20055 non-null  int64         \n",
      " 1   order_date          20055 non-null  datetime64[ns]\n",
      " 2   delivery_date       20055 non-null  datetime64[ns]\n",
      " 3   item_id             20055 non-null  int64         \n",
      " 4   item_size           20055 non-null  object        \n",
      " 5   item_color          20055 non-null  object        \n",
      " 6   brand_id            20055 non-null  int64         \n",
      " 7   item_price          20055 non-null  float64       \n",
      " 8   user_id             20055 non-null  int64         \n",
      " 9   user_title          20055 non-null  object        \n",
      " 10  user_dob            20055 non-null  object        \n",
      " 11  user_state          20055 non-null  int64         \n",
      " 12  user_reg_date       20055 non-null  datetime64[ns]\n",
      " 13  Delivery_time       20055 non-null  int64         \n",
      " 14  weekday_dummy       20055 non-null  object        \n",
      " 15  Weekday             20055 non-null  object        \n",
      " 16  month_dummy         20055 non-null  object        \n",
      " 17  Month               20055 non-null  object        \n",
      " 18  order_reg_duration  20055 non-null  float64       \n",
      "dtypes: datetime64[ns](3), float64(2), int64(6), object(8)\n",
      "memory usage: 2.9+ MB\n"
     ]
    }
   ],
   "source": [
    "my_data_testing.info()"
   ]
  },
  {
   "cell_type": "code",
   "execution_count": 138,
   "metadata": {
    "id": "JHuUIcshey_d"
   },
   "outputs": [],
   "source": [
    "my_data_testing[\"user_dob\"]=pd.to_datetime(my_data_testing[\"user_dob\"])"
   ]
  },
  {
   "cell_type": "code",
   "execution_count": 139,
   "metadata": {
    "id": "7-32xCR_dU1a"
   },
   "outputs": [],
   "source": [
    "my_data_testing[\"age\"]=my_data_testing[\"order_date\"]-my_data_testing[\"user_dob\"]"
   ]
  },
  {
   "cell_type": "code",
   "execution_count": 140,
   "metadata": {
    "id": "8-L2T8L1fAFk"
   },
   "outputs": [
    {
     "data": {
      "text/html": [
       "<div>\n",
       "<style scoped>\n",
       "    .dataframe tbody tr th:only-of-type {\n",
       "        vertical-align: middle;\n",
       "    }\n",
       "\n",
       "    .dataframe tbody tr th {\n",
       "        vertical-align: top;\n",
       "    }\n",
       "\n",
       "    .dataframe thead th {\n",
       "        text-align: right;\n",
       "    }\n",
       "</style>\n",
       "<table border=\"1\" class=\"dataframe\">\n",
       "  <thead>\n",
       "    <tr style=\"text-align: right;\">\n",
       "      <th></th>\n",
       "      <th>order_item_id</th>\n",
       "      <th>order_date</th>\n",
       "      <th>delivery_date</th>\n",
       "      <th>item_id</th>\n",
       "      <th>item_size</th>\n",
       "      <th>item_color</th>\n",
       "      <th>brand_id</th>\n",
       "      <th>item_price</th>\n",
       "      <th>user_id</th>\n",
       "      <th>user_title</th>\n",
       "      <th>user_dob</th>\n",
       "      <th>user_state</th>\n",
       "      <th>user_reg_date</th>\n",
       "      <th>Delivery_time</th>\n",
       "      <th>weekday_dummy</th>\n",
       "      <th>Weekday</th>\n",
       "      <th>month_dummy</th>\n",
       "      <th>Month</th>\n",
       "      <th>order_reg_duration</th>\n",
       "      <th>age</th>\n",
       "    </tr>\n",
       "  </thead>\n",
       "  <tbody>\n",
       "    <tr>\n",
       "      <th>0</th>\n",
       "      <td>26</td>\n",
       "      <td>2016-06-23</td>\n",
       "      <td>2016-06-26</td>\n",
       "      <td>92</td>\n",
       "      <td>xl</td>\n",
       "      <td>turquoise</td>\n",
       "      <td>42</td>\n",
       "      <td>69.90</td>\n",
       "      <td>9392</td>\n",
       "      <td>Mrs</td>\n",
       "      <td>1962-04-14</td>\n",
       "      <td>1010</td>\n",
       "      <td>2016-03-24</td>\n",
       "      <td>3</td>\n",
       "      <td>Sunday</td>\n",
       "      <td>Sunday</td>\n",
       "      <td>June</td>\n",
       "      <td>June</td>\n",
       "      <td>91.0</td>\n",
       "      <td>19794 days</td>\n",
       "    </tr>\n",
       "    <tr>\n",
       "      <th>1</th>\n",
       "      <td>28</td>\n",
       "      <td>2016-06-23</td>\n",
       "      <td>2016-07-02</td>\n",
       "      <td>2</td>\n",
       "      <td>xxl</td>\n",
       "      <td>green</td>\n",
       "      <td>2</td>\n",
       "      <td>19.90</td>\n",
       "      <td>9392</td>\n",
       "      <td>Mrs</td>\n",
       "      <td>1962-04-14</td>\n",
       "      <td>1010</td>\n",
       "      <td>2016-03-24</td>\n",
       "      <td>9</td>\n",
       "      <td>Saturday</td>\n",
       "      <td>Saturday</td>\n",
       "      <td>July</td>\n",
       "      <td>July</td>\n",
       "      <td>91.0</td>\n",
       "      <td>19794 days</td>\n",
       "    </tr>\n",
       "    <tr>\n",
       "      <th>2</th>\n",
       "      <td>37</td>\n",
       "      <td>2016-06-23</td>\n",
       "      <td>2016-06-26</td>\n",
       "      <td>895</td>\n",
       "      <td>38</td>\n",
       "      <td>white</td>\n",
       "      <td>39</td>\n",
       "      <td>39.95</td>\n",
       "      <td>30826</td>\n",
       "      <td>Mrs</td>\n",
       "      <td>1964-04-27</td>\n",
       "      <td>1001</td>\n",
       "      <td>2015-02-17</td>\n",
       "      <td>3</td>\n",
       "      <td>Sunday</td>\n",
       "      <td>Sunday</td>\n",
       "      <td>June</td>\n",
       "      <td>June</td>\n",
       "      <td>492.0</td>\n",
       "      <td>19050 days</td>\n",
       "    </tr>\n",
       "    <tr>\n",
       "      <th>3</th>\n",
       "      <td>56</td>\n",
       "      <td>2016-06-23</td>\n",
       "      <td>1900-01-01</td>\n",
       "      <td>5</td>\n",
       "      <td>l</td>\n",
       "      <td>white</td>\n",
       "      <td>5</td>\n",
       "      <td>69.90</td>\n",
       "      <td>30828</td>\n",
       "      <td>Mrs</td>\n",
       "      <td>1966-05-13</td>\n",
       "      <td>1008</td>\n",
       "      <td>2016-01-21</td>\n",
       "      <td>3</td>\n",
       "      <td>missing</td>\n",
       "      <td>Sunday</td>\n",
       "      <td>missing</td>\n",
       "      <td>August</td>\n",
       "      <td>154.0</td>\n",
       "      <td>18304 days</td>\n",
       "    </tr>\n",
       "    <tr>\n",
       "      <th>4</th>\n",
       "      <td>65</td>\n",
       "      <td>2016-06-23</td>\n",
       "      <td>1900-01-01</td>\n",
       "      <td>55</td>\n",
       "      <td>40</td>\n",
       "      <td>purple</td>\n",
       "      <td>1</td>\n",
       "      <td>89.90</td>\n",
       "      <td>22948</td>\n",
       "      <td>Mrs</td>\n",
       "      <td>1957-03-11</td>\n",
       "      <td>1001</td>\n",
       "      <td>2015-02-17</td>\n",
       "      <td>3</td>\n",
       "      <td>missing</td>\n",
       "      <td>Sunday</td>\n",
       "      <td>missing</td>\n",
       "      <td>August</td>\n",
       "      <td>492.0</td>\n",
       "      <td>21654 days</td>\n",
       "    </tr>\n",
       "  </tbody>\n",
       "</table>\n",
       "</div>"
      ],
      "text/plain": [
       "   order_item_id order_date delivery_date  item_id item_size item_color  \\\n",
       "0             26 2016-06-23    2016-06-26       92        xl  turquoise   \n",
       "1             28 2016-06-23    2016-07-02        2       xxl      green   \n",
       "2             37 2016-06-23    2016-06-26      895        38      white   \n",
       "3             56 2016-06-23    1900-01-01        5         l      white   \n",
       "4             65 2016-06-23    1900-01-01       55        40     purple   \n",
       "\n",
       "   brand_id  item_price  user_id user_title   user_dob  user_state  \\\n",
       "0        42       69.90     9392        Mrs 1962-04-14        1010   \n",
       "1         2       19.90     9392        Mrs 1962-04-14        1010   \n",
       "2        39       39.95    30826        Mrs 1964-04-27        1001   \n",
       "3         5       69.90    30828        Mrs 1966-05-13        1008   \n",
       "4         1       89.90    22948        Mrs 1957-03-11        1001   \n",
       "\n",
       "  user_reg_date  Delivery_time weekday_dummy   Weekday month_dummy   Month  \\\n",
       "0    2016-03-24              3        Sunday    Sunday        June    June   \n",
       "1    2016-03-24              9      Saturday  Saturday        July    July   \n",
       "2    2015-02-17              3        Sunday    Sunday        June    June   \n",
       "3    2016-01-21              3       missing    Sunday     missing  August   \n",
       "4    2015-02-17              3       missing    Sunday     missing  August   \n",
       "\n",
       "   order_reg_duration        age  \n",
       "0                91.0 19794 days  \n",
       "1                91.0 19794 days  \n",
       "2               492.0 19050 days  \n",
       "3               154.0 18304 days  \n",
       "4               492.0 21654 days  "
      ]
     },
     "execution_count": 140,
     "metadata": {},
     "output_type": "execute_result"
    }
   ],
   "source": [
    "my_data_testing.head()"
   ]
  },
  {
   "cell_type": "code",
   "execution_count": 141,
   "metadata": {
    "id": "4XkKf57nfGhq"
   },
   "outputs": [],
   "source": [
    "my_data_testing[\"age\"]=[str(x).split(\" \")[0] for x in my_data_testing[\"age\"]]"
   ]
  },
  {
   "cell_type": "code",
   "execution_count": 142,
   "metadata": {
    "id": "Eir3SeflfXIh"
   },
   "outputs": [],
   "source": [
    "my_data_testing[\"age\"]=my_data_testing[\"age\"].apply(int)\n",
    "my_data_testing[\"age\"]=my_data_testing[\"age\"]/365"
   ]
  },
  {
   "cell_type": "code",
   "execution_count": 143,
   "metadata": {
    "id": "k_Oj0evVfwJ2"
   },
   "outputs": [
    {
     "data": {
      "text/plain": [
       "51.64383561643836"
      ]
     },
     "execution_count": 143,
     "metadata": {},
     "output_type": "execute_result"
    }
   ],
   "source": [
    "my_data_testing[\"age\"][my_data_testing[\"age\"]>0].median()"
   ]
  },
  {
   "cell_type": "code",
   "execution_count": 144,
   "metadata": {
    "id": "jbcYThQVf0gO"
   },
   "outputs": [
    {
     "name": "stderr",
     "output_type": "stream",
     "text": [
      "<ipython-input-144-d47ef610f2bb>:1: SettingWithCopyWarning: \n",
      "A value is trying to be set on a copy of a slice from a DataFrame\n",
      "\n",
      "See the caveats in the documentation: https://pandas.pydata.org/pandas-docs/stable/user_guide/indexing.html#returning-a-view-versus-a-copy\n",
      "  my_data_testing[\"age\"][my_data_testing[\"age\"]<0]=51.64383561643836\n"
     ]
    }
   ],
   "source": [
    "my_data_testing[\"age\"][my_data_testing[\"age\"]<0]=51.64383561643836\n",
    "my_data_testing[\"age\"]=round(my_data_testing[\"age\"])"
   ]
  },
  {
   "cell_type": "code",
   "execution_count": 145,
   "metadata": {
    "id": "rJRkvRfQgEsn"
   },
   "outputs": [
    {
     "data": {
      "text/html": [
       "<div>\n",
       "<style scoped>\n",
       "    .dataframe tbody tr th:only-of-type {\n",
       "        vertical-align: middle;\n",
       "    }\n",
       "\n",
       "    .dataframe tbody tr th {\n",
       "        vertical-align: top;\n",
       "    }\n",
       "\n",
       "    .dataframe thead th {\n",
       "        text-align: right;\n",
       "    }\n",
       "</style>\n",
       "<table border=\"1\" class=\"dataframe\">\n",
       "  <thead>\n",
       "    <tr style=\"text-align: right;\">\n",
       "      <th></th>\n",
       "      <th>order_item_id</th>\n",
       "      <th>order_date</th>\n",
       "      <th>delivery_date</th>\n",
       "      <th>item_id</th>\n",
       "      <th>item_size</th>\n",
       "      <th>item_color</th>\n",
       "      <th>brand_id</th>\n",
       "      <th>item_price</th>\n",
       "      <th>user_id</th>\n",
       "      <th>user_title</th>\n",
       "      <th>user_dob</th>\n",
       "      <th>user_state</th>\n",
       "      <th>user_reg_date</th>\n",
       "      <th>Delivery_time</th>\n",
       "      <th>weekday_dummy</th>\n",
       "      <th>Weekday</th>\n",
       "      <th>month_dummy</th>\n",
       "      <th>Month</th>\n",
       "      <th>order_reg_duration</th>\n",
       "      <th>age</th>\n",
       "    </tr>\n",
       "  </thead>\n",
       "  <tbody>\n",
       "    <tr>\n",
       "      <th>0</th>\n",
       "      <td>26</td>\n",
       "      <td>2016-06-23</td>\n",
       "      <td>2016-06-26</td>\n",
       "      <td>92</td>\n",
       "      <td>xl</td>\n",
       "      <td>turquoise</td>\n",
       "      <td>42</td>\n",
       "      <td>69.90</td>\n",
       "      <td>9392</td>\n",
       "      <td>Mrs</td>\n",
       "      <td>1962-04-14</td>\n",
       "      <td>1010</td>\n",
       "      <td>2016-03-24</td>\n",
       "      <td>3</td>\n",
       "      <td>Sunday</td>\n",
       "      <td>Sunday</td>\n",
       "      <td>June</td>\n",
       "      <td>June</td>\n",
       "      <td>91.0</td>\n",
       "      <td>54.0</td>\n",
       "    </tr>\n",
       "    <tr>\n",
       "      <th>1</th>\n",
       "      <td>28</td>\n",
       "      <td>2016-06-23</td>\n",
       "      <td>2016-07-02</td>\n",
       "      <td>2</td>\n",
       "      <td>xxl</td>\n",
       "      <td>green</td>\n",
       "      <td>2</td>\n",
       "      <td>19.90</td>\n",
       "      <td>9392</td>\n",
       "      <td>Mrs</td>\n",
       "      <td>1962-04-14</td>\n",
       "      <td>1010</td>\n",
       "      <td>2016-03-24</td>\n",
       "      <td>9</td>\n",
       "      <td>Saturday</td>\n",
       "      <td>Saturday</td>\n",
       "      <td>July</td>\n",
       "      <td>July</td>\n",
       "      <td>91.0</td>\n",
       "      <td>54.0</td>\n",
       "    </tr>\n",
       "    <tr>\n",
       "      <th>2</th>\n",
       "      <td>37</td>\n",
       "      <td>2016-06-23</td>\n",
       "      <td>2016-06-26</td>\n",
       "      <td>895</td>\n",
       "      <td>38</td>\n",
       "      <td>white</td>\n",
       "      <td>39</td>\n",
       "      <td>39.95</td>\n",
       "      <td>30826</td>\n",
       "      <td>Mrs</td>\n",
       "      <td>1964-04-27</td>\n",
       "      <td>1001</td>\n",
       "      <td>2015-02-17</td>\n",
       "      <td>3</td>\n",
       "      <td>Sunday</td>\n",
       "      <td>Sunday</td>\n",
       "      <td>June</td>\n",
       "      <td>June</td>\n",
       "      <td>492.0</td>\n",
       "      <td>52.0</td>\n",
       "    </tr>\n",
       "    <tr>\n",
       "      <th>3</th>\n",
       "      <td>56</td>\n",
       "      <td>2016-06-23</td>\n",
       "      <td>1900-01-01</td>\n",
       "      <td>5</td>\n",
       "      <td>l</td>\n",
       "      <td>white</td>\n",
       "      <td>5</td>\n",
       "      <td>69.90</td>\n",
       "      <td>30828</td>\n",
       "      <td>Mrs</td>\n",
       "      <td>1966-05-13</td>\n",
       "      <td>1008</td>\n",
       "      <td>2016-01-21</td>\n",
       "      <td>3</td>\n",
       "      <td>missing</td>\n",
       "      <td>Sunday</td>\n",
       "      <td>missing</td>\n",
       "      <td>August</td>\n",
       "      <td>154.0</td>\n",
       "      <td>50.0</td>\n",
       "    </tr>\n",
       "    <tr>\n",
       "      <th>4</th>\n",
       "      <td>65</td>\n",
       "      <td>2016-06-23</td>\n",
       "      <td>1900-01-01</td>\n",
       "      <td>55</td>\n",
       "      <td>40</td>\n",
       "      <td>purple</td>\n",
       "      <td>1</td>\n",
       "      <td>89.90</td>\n",
       "      <td>22948</td>\n",
       "      <td>Mrs</td>\n",
       "      <td>1957-03-11</td>\n",
       "      <td>1001</td>\n",
       "      <td>2015-02-17</td>\n",
       "      <td>3</td>\n",
       "      <td>missing</td>\n",
       "      <td>Sunday</td>\n",
       "      <td>missing</td>\n",
       "      <td>August</td>\n",
       "      <td>492.0</td>\n",
       "      <td>59.0</td>\n",
       "    </tr>\n",
       "  </tbody>\n",
       "</table>\n",
       "</div>"
      ],
      "text/plain": [
       "   order_item_id order_date delivery_date  item_id item_size item_color  \\\n",
       "0             26 2016-06-23    2016-06-26       92        xl  turquoise   \n",
       "1             28 2016-06-23    2016-07-02        2       xxl      green   \n",
       "2             37 2016-06-23    2016-06-26      895        38      white   \n",
       "3             56 2016-06-23    1900-01-01        5         l      white   \n",
       "4             65 2016-06-23    1900-01-01       55        40     purple   \n",
       "\n",
       "   brand_id  item_price  user_id user_title   user_dob  user_state  \\\n",
       "0        42       69.90     9392        Mrs 1962-04-14        1010   \n",
       "1         2       19.90     9392        Mrs 1962-04-14        1010   \n",
       "2        39       39.95    30826        Mrs 1964-04-27        1001   \n",
       "3         5       69.90    30828        Mrs 1966-05-13        1008   \n",
       "4         1       89.90    22948        Mrs 1957-03-11        1001   \n",
       "\n",
       "  user_reg_date  Delivery_time weekday_dummy   Weekday month_dummy   Month  \\\n",
       "0    2016-03-24              3        Sunday    Sunday        June    June   \n",
       "1    2016-03-24              9      Saturday  Saturday        July    July   \n",
       "2    2015-02-17              3        Sunday    Sunday        June    June   \n",
       "3    2016-01-21              3       missing    Sunday     missing  August   \n",
       "4    2015-02-17              3       missing    Sunday     missing  August   \n",
       "\n",
       "   order_reg_duration   age  \n",
       "0                91.0  54.0  \n",
       "1                91.0  54.0  \n",
       "2               492.0  52.0  \n",
       "3               154.0  50.0  \n",
       "4               492.0  59.0  "
      ]
     },
     "execution_count": 145,
     "metadata": {},
     "output_type": "execute_result"
    }
   ],
   "source": [
    "my_data_testing.head()"
   ]
  },
  {
   "cell_type": "code",
   "execution_count": 146,
   "metadata": {
    "id": "s1xPhT1vn2w8"
   },
   "outputs": [],
   "source": [
    "my_data_testing[\"item_size\"]=my_data_testing[\"item_size\"].apply(str)"
   ]
  },
  {
   "cell_type": "code",
   "execution_count": 147,
   "metadata": {
    "id": "2ep7yKNOmnUf"
   },
   "outputs": [],
   "source": [
    "def item_map_category(x):\n",
    "    x=x.replace(\"+\",\"\")\n",
    "    if x.isnumeric()==False:  \n",
    "        if x=='xxxl':\n",
    "            x=48\n",
    "        elif x=='xxl':\n",
    "            x=42\n",
    "        elif x=='xl':\n",
    "            x=40\n",
    "        elif x=='l':\n",
    "            x=38\n",
    "        elif x=='m':\n",
    "            x=29\n",
    "        elif x=='s':\n",
    "            x=10\n",
    "        elif x=='xs':\n",
    "            x=6\n",
    "        else: #for non-reported size we choosing mid value\n",
    "            x=40\n",
    "    return int(x)\n",
    "my_data_testing['item_size_updated']=my_data_testing[\"item_size\"].apply(item_map_category)"
   ]
  },
  {
   "cell_type": "code",
   "execution_count": 148,
   "metadata": {
    "id": "XA_P3gGXoKJQ"
   },
   "outputs": [
    {
     "data": {
      "text/html": [
       "<div>\n",
       "<style scoped>\n",
       "    .dataframe tbody tr th:only-of-type {\n",
       "        vertical-align: middle;\n",
       "    }\n",
       "\n",
       "    .dataframe tbody tr th {\n",
       "        vertical-align: top;\n",
       "    }\n",
       "\n",
       "    .dataframe thead th {\n",
       "        text-align: right;\n",
       "    }\n",
       "</style>\n",
       "<table border=\"1\" class=\"dataframe\">\n",
       "  <thead>\n",
       "    <tr style=\"text-align: right;\">\n",
       "      <th></th>\n",
       "      <th>order_item_id</th>\n",
       "      <th>order_date</th>\n",
       "      <th>delivery_date</th>\n",
       "      <th>item_id</th>\n",
       "      <th>item_size</th>\n",
       "      <th>item_color</th>\n",
       "      <th>brand_id</th>\n",
       "      <th>item_price</th>\n",
       "      <th>user_id</th>\n",
       "      <th>user_title</th>\n",
       "      <th>...</th>\n",
       "      <th>user_state</th>\n",
       "      <th>user_reg_date</th>\n",
       "      <th>Delivery_time</th>\n",
       "      <th>weekday_dummy</th>\n",
       "      <th>Weekday</th>\n",
       "      <th>month_dummy</th>\n",
       "      <th>Month</th>\n",
       "      <th>order_reg_duration</th>\n",
       "      <th>age</th>\n",
       "      <th>item_size_updated</th>\n",
       "    </tr>\n",
       "  </thead>\n",
       "  <tbody>\n",
       "    <tr>\n",
       "      <th>0</th>\n",
       "      <td>26</td>\n",
       "      <td>2016-06-23</td>\n",
       "      <td>2016-06-26</td>\n",
       "      <td>92</td>\n",
       "      <td>xl</td>\n",
       "      <td>turquoise</td>\n",
       "      <td>42</td>\n",
       "      <td>69.90</td>\n",
       "      <td>9392</td>\n",
       "      <td>Mrs</td>\n",
       "      <td>...</td>\n",
       "      <td>1010</td>\n",
       "      <td>2016-03-24</td>\n",
       "      <td>3</td>\n",
       "      <td>Sunday</td>\n",
       "      <td>Sunday</td>\n",
       "      <td>June</td>\n",
       "      <td>June</td>\n",
       "      <td>91.0</td>\n",
       "      <td>54.0</td>\n",
       "      <td>40</td>\n",
       "    </tr>\n",
       "    <tr>\n",
       "      <th>1</th>\n",
       "      <td>28</td>\n",
       "      <td>2016-06-23</td>\n",
       "      <td>2016-07-02</td>\n",
       "      <td>2</td>\n",
       "      <td>xxl</td>\n",
       "      <td>green</td>\n",
       "      <td>2</td>\n",
       "      <td>19.90</td>\n",
       "      <td>9392</td>\n",
       "      <td>Mrs</td>\n",
       "      <td>...</td>\n",
       "      <td>1010</td>\n",
       "      <td>2016-03-24</td>\n",
       "      <td>9</td>\n",
       "      <td>Saturday</td>\n",
       "      <td>Saturday</td>\n",
       "      <td>July</td>\n",
       "      <td>July</td>\n",
       "      <td>91.0</td>\n",
       "      <td>54.0</td>\n",
       "      <td>42</td>\n",
       "    </tr>\n",
       "    <tr>\n",
       "      <th>2</th>\n",
       "      <td>37</td>\n",
       "      <td>2016-06-23</td>\n",
       "      <td>2016-06-26</td>\n",
       "      <td>895</td>\n",
       "      <td>38</td>\n",
       "      <td>white</td>\n",
       "      <td>39</td>\n",
       "      <td>39.95</td>\n",
       "      <td>30826</td>\n",
       "      <td>Mrs</td>\n",
       "      <td>...</td>\n",
       "      <td>1001</td>\n",
       "      <td>2015-02-17</td>\n",
       "      <td>3</td>\n",
       "      <td>Sunday</td>\n",
       "      <td>Sunday</td>\n",
       "      <td>June</td>\n",
       "      <td>June</td>\n",
       "      <td>492.0</td>\n",
       "      <td>52.0</td>\n",
       "      <td>38</td>\n",
       "    </tr>\n",
       "    <tr>\n",
       "      <th>3</th>\n",
       "      <td>56</td>\n",
       "      <td>2016-06-23</td>\n",
       "      <td>1900-01-01</td>\n",
       "      <td>5</td>\n",
       "      <td>l</td>\n",
       "      <td>white</td>\n",
       "      <td>5</td>\n",
       "      <td>69.90</td>\n",
       "      <td>30828</td>\n",
       "      <td>Mrs</td>\n",
       "      <td>...</td>\n",
       "      <td>1008</td>\n",
       "      <td>2016-01-21</td>\n",
       "      <td>3</td>\n",
       "      <td>missing</td>\n",
       "      <td>Sunday</td>\n",
       "      <td>missing</td>\n",
       "      <td>August</td>\n",
       "      <td>154.0</td>\n",
       "      <td>50.0</td>\n",
       "      <td>38</td>\n",
       "    </tr>\n",
       "    <tr>\n",
       "      <th>4</th>\n",
       "      <td>65</td>\n",
       "      <td>2016-06-23</td>\n",
       "      <td>1900-01-01</td>\n",
       "      <td>55</td>\n",
       "      <td>40</td>\n",
       "      <td>purple</td>\n",
       "      <td>1</td>\n",
       "      <td>89.90</td>\n",
       "      <td>22948</td>\n",
       "      <td>Mrs</td>\n",
       "      <td>...</td>\n",
       "      <td>1001</td>\n",
       "      <td>2015-02-17</td>\n",
       "      <td>3</td>\n",
       "      <td>missing</td>\n",
       "      <td>Sunday</td>\n",
       "      <td>missing</td>\n",
       "      <td>August</td>\n",
       "      <td>492.0</td>\n",
       "      <td>59.0</td>\n",
       "      <td>40</td>\n",
       "    </tr>\n",
       "  </tbody>\n",
       "</table>\n",
       "<p>5 rows × 21 columns</p>\n",
       "</div>"
      ],
      "text/plain": [
       "   order_item_id order_date delivery_date  item_id item_size item_color  \\\n",
       "0             26 2016-06-23    2016-06-26       92        xl  turquoise   \n",
       "1             28 2016-06-23    2016-07-02        2       xxl      green   \n",
       "2             37 2016-06-23    2016-06-26      895        38      white   \n",
       "3             56 2016-06-23    1900-01-01        5         l      white   \n",
       "4             65 2016-06-23    1900-01-01       55        40     purple   \n",
       "\n",
       "   brand_id  item_price  user_id user_title  ... user_state  user_reg_date  \\\n",
       "0        42       69.90     9392        Mrs  ...       1010     2016-03-24   \n",
       "1         2       19.90     9392        Mrs  ...       1010     2016-03-24   \n",
       "2        39       39.95    30826        Mrs  ...       1001     2015-02-17   \n",
       "3         5       69.90    30828        Mrs  ...       1008     2016-01-21   \n",
       "4         1       89.90    22948        Mrs  ...       1001     2015-02-17   \n",
       "\n",
       "  Delivery_time  weekday_dummy   Weekday month_dummy   Month  \\\n",
       "0             3         Sunday    Sunday        June    June   \n",
       "1             9       Saturday  Saturday        July    July   \n",
       "2             3         Sunday    Sunday        June    June   \n",
       "3             3        missing    Sunday     missing  August   \n",
       "4             3        missing    Sunday     missing  August   \n",
       "\n",
       "  order_reg_duration   age  item_size_updated  \n",
       "0               91.0  54.0                 40  \n",
       "1               91.0  54.0                 42  \n",
       "2              492.0  52.0                 38  \n",
       "3              154.0  50.0                 38  \n",
       "4              492.0  59.0                 40  \n",
       "\n",
       "[5 rows x 21 columns]"
      ]
     },
     "execution_count": 148,
     "metadata": {},
     "output_type": "execute_result"
    }
   ],
   "source": [
    "my_data_testing.head()"
   ]
  },
  {
   "cell_type": "code",
   "execution_count": 149,
   "metadata": {
    "id": "5zXWKTkqnFS1"
   },
   "outputs": [],
   "source": [
    "my_data_testing=my_data_testing.drop([\"delivery_date\",\"item_size\",\"item_color\",\"order_date\",\"user_reg_date\",\"user_dob\",\"weekday_dummy\",\"month_dummy\"],axis=1)"
   ]
  },
  {
   "cell_type": "code",
   "execution_count": 150,
   "metadata": {
    "id": "9xUH8Lukr0eM"
   },
   "outputs": [
    {
     "data": {
      "text/plain": [
       "(20055, 13)"
      ]
     },
     "execution_count": 150,
     "metadata": {},
     "output_type": "execute_result"
    }
   ],
   "source": [
    "my_data_testing.shape"
   ]
  },
  {
   "cell_type": "code",
   "execution_count": 151,
   "metadata": {
    "id": "zId9IOzboxzn"
   },
   "outputs": [
    {
     "data": {
      "text/html": [
       "<div>\n",
       "<style scoped>\n",
       "    .dataframe tbody tr th:only-of-type {\n",
       "        vertical-align: middle;\n",
       "    }\n",
       "\n",
       "    .dataframe tbody tr th {\n",
       "        vertical-align: top;\n",
       "    }\n",
       "\n",
       "    .dataframe thead th {\n",
       "        text-align: right;\n",
       "    }\n",
       "</style>\n",
       "<table border=\"1\" class=\"dataframe\">\n",
       "  <thead>\n",
       "    <tr style=\"text-align: right;\">\n",
       "      <th></th>\n",
       "      <th>order_item_id</th>\n",
       "      <th>item_id</th>\n",
       "      <th>brand_id</th>\n",
       "      <th>item_price</th>\n",
       "      <th>user_id</th>\n",
       "      <th>user_title</th>\n",
       "      <th>user_state</th>\n",
       "      <th>Delivery_time</th>\n",
       "      <th>Weekday</th>\n",
       "      <th>Month</th>\n",
       "      <th>order_reg_duration</th>\n",
       "      <th>age</th>\n",
       "      <th>item_size_updated</th>\n",
       "    </tr>\n",
       "  </thead>\n",
       "  <tbody>\n",
       "    <tr>\n",
       "      <th>0</th>\n",
       "      <td>26</td>\n",
       "      <td>92</td>\n",
       "      <td>42</td>\n",
       "      <td>69.90</td>\n",
       "      <td>9392</td>\n",
       "      <td>Mrs</td>\n",
       "      <td>1010</td>\n",
       "      <td>3</td>\n",
       "      <td>Sunday</td>\n",
       "      <td>June</td>\n",
       "      <td>91.0</td>\n",
       "      <td>54.0</td>\n",
       "      <td>40</td>\n",
       "    </tr>\n",
       "    <tr>\n",
       "      <th>1</th>\n",
       "      <td>28</td>\n",
       "      <td>2</td>\n",
       "      <td>2</td>\n",
       "      <td>19.90</td>\n",
       "      <td>9392</td>\n",
       "      <td>Mrs</td>\n",
       "      <td>1010</td>\n",
       "      <td>9</td>\n",
       "      <td>Saturday</td>\n",
       "      <td>July</td>\n",
       "      <td>91.0</td>\n",
       "      <td>54.0</td>\n",
       "      <td>42</td>\n",
       "    </tr>\n",
       "    <tr>\n",
       "      <th>2</th>\n",
       "      <td>37</td>\n",
       "      <td>895</td>\n",
       "      <td>39</td>\n",
       "      <td>39.95</td>\n",
       "      <td>30826</td>\n",
       "      <td>Mrs</td>\n",
       "      <td>1001</td>\n",
       "      <td>3</td>\n",
       "      <td>Sunday</td>\n",
       "      <td>June</td>\n",
       "      <td>492.0</td>\n",
       "      <td>52.0</td>\n",
       "      <td>38</td>\n",
       "    </tr>\n",
       "    <tr>\n",
       "      <th>3</th>\n",
       "      <td>56</td>\n",
       "      <td>5</td>\n",
       "      <td>5</td>\n",
       "      <td>69.90</td>\n",
       "      <td>30828</td>\n",
       "      <td>Mrs</td>\n",
       "      <td>1008</td>\n",
       "      <td>3</td>\n",
       "      <td>Sunday</td>\n",
       "      <td>August</td>\n",
       "      <td>154.0</td>\n",
       "      <td>50.0</td>\n",
       "      <td>38</td>\n",
       "    </tr>\n",
       "    <tr>\n",
       "      <th>4</th>\n",
       "      <td>65</td>\n",
       "      <td>55</td>\n",
       "      <td>1</td>\n",
       "      <td>89.90</td>\n",
       "      <td>22948</td>\n",
       "      <td>Mrs</td>\n",
       "      <td>1001</td>\n",
       "      <td>3</td>\n",
       "      <td>Sunday</td>\n",
       "      <td>August</td>\n",
       "      <td>492.0</td>\n",
       "      <td>59.0</td>\n",
       "      <td>40</td>\n",
       "    </tr>\n",
       "  </tbody>\n",
       "</table>\n",
       "</div>"
      ],
      "text/plain": [
       "   order_item_id  item_id  brand_id  item_price  user_id user_title  \\\n",
       "0             26       92        42       69.90     9392        Mrs   \n",
       "1             28        2         2       19.90     9392        Mrs   \n",
       "2             37      895        39       39.95    30826        Mrs   \n",
       "3             56        5         5       69.90    30828        Mrs   \n",
       "4             65       55         1       89.90    22948        Mrs   \n",
       "\n",
       "   user_state  Delivery_time   Weekday   Month  order_reg_duration   age  \\\n",
       "0        1010              3    Sunday    June                91.0  54.0   \n",
       "1        1010              9  Saturday    July                91.0  54.0   \n",
       "2        1001              3    Sunday    June               492.0  52.0   \n",
       "3        1008              3    Sunday  August               154.0  50.0   \n",
       "4        1001              3    Sunday  August               492.0  59.0   \n",
       "\n",
       "   item_size_updated  \n",
       "0                 40  \n",
       "1                 42  \n",
       "2                 38  \n",
       "3                 38  \n",
       "4                 40  "
      ]
     },
     "execution_count": 151,
     "metadata": {},
     "output_type": "execute_result"
    }
   ],
   "source": [
    "my_data_testing.head()"
   ]
  },
  {
   "cell_type": "code",
   "execution_count": 152,
   "metadata": {
    "id": "mNXmdw_gpWsp"
   },
   "outputs": [],
   "source": [
    "my_data_testing=my_data_testing[['item_id', 'brand_id', 'item_price', 'user_id', 'user_title',\n",
    "       'user_state', 'Delivery_time', 'Weekday', 'Month', 'age',\n",
    "       'order_reg_duration', 'item_size_updated',\"order_item_id\"]]\n",
    "      "
   ]
  },
  {
   "cell_type": "code",
   "execution_count": 153,
   "metadata": {
    "id": "5EDQIR1gpWuc"
   },
   "outputs": [
    {
     "data": {
      "text/html": [
       "<div>\n",
       "<style scoped>\n",
       "    .dataframe tbody tr th:only-of-type {\n",
       "        vertical-align: middle;\n",
       "    }\n",
       "\n",
       "    .dataframe tbody tr th {\n",
       "        vertical-align: top;\n",
       "    }\n",
       "\n",
       "    .dataframe thead th {\n",
       "        text-align: right;\n",
       "    }\n",
       "</style>\n",
       "<table border=\"1\" class=\"dataframe\">\n",
       "  <thead>\n",
       "    <tr style=\"text-align: right;\">\n",
       "      <th></th>\n",
       "      <th>item_id</th>\n",
       "      <th>brand_id</th>\n",
       "      <th>item_price</th>\n",
       "      <th>user_id</th>\n",
       "      <th>user_title</th>\n",
       "      <th>user_state</th>\n",
       "      <th>Delivery_time</th>\n",
       "      <th>Weekday</th>\n",
       "      <th>Month</th>\n",
       "      <th>age</th>\n",
       "      <th>order_reg_duration</th>\n",
       "      <th>item_size_updated</th>\n",
       "      <th>order_item_id</th>\n",
       "    </tr>\n",
       "  </thead>\n",
       "  <tbody>\n",
       "    <tr>\n",
       "      <th>0</th>\n",
       "      <td>92</td>\n",
       "      <td>42</td>\n",
       "      <td>69.90</td>\n",
       "      <td>9392</td>\n",
       "      <td>Mrs</td>\n",
       "      <td>1010</td>\n",
       "      <td>3</td>\n",
       "      <td>Sunday</td>\n",
       "      <td>June</td>\n",
       "      <td>54.0</td>\n",
       "      <td>91.0</td>\n",
       "      <td>40</td>\n",
       "      <td>26</td>\n",
       "    </tr>\n",
       "    <tr>\n",
       "      <th>1</th>\n",
       "      <td>2</td>\n",
       "      <td>2</td>\n",
       "      <td>19.90</td>\n",
       "      <td>9392</td>\n",
       "      <td>Mrs</td>\n",
       "      <td>1010</td>\n",
       "      <td>9</td>\n",
       "      <td>Saturday</td>\n",
       "      <td>July</td>\n",
       "      <td>54.0</td>\n",
       "      <td>91.0</td>\n",
       "      <td>42</td>\n",
       "      <td>28</td>\n",
       "    </tr>\n",
       "    <tr>\n",
       "      <th>2</th>\n",
       "      <td>895</td>\n",
       "      <td>39</td>\n",
       "      <td>39.95</td>\n",
       "      <td>30826</td>\n",
       "      <td>Mrs</td>\n",
       "      <td>1001</td>\n",
       "      <td>3</td>\n",
       "      <td>Sunday</td>\n",
       "      <td>June</td>\n",
       "      <td>52.0</td>\n",
       "      <td>492.0</td>\n",
       "      <td>38</td>\n",
       "      <td>37</td>\n",
       "    </tr>\n",
       "    <tr>\n",
       "      <th>3</th>\n",
       "      <td>5</td>\n",
       "      <td>5</td>\n",
       "      <td>69.90</td>\n",
       "      <td>30828</td>\n",
       "      <td>Mrs</td>\n",
       "      <td>1008</td>\n",
       "      <td>3</td>\n",
       "      <td>Sunday</td>\n",
       "      <td>August</td>\n",
       "      <td>50.0</td>\n",
       "      <td>154.0</td>\n",
       "      <td>38</td>\n",
       "      <td>56</td>\n",
       "    </tr>\n",
       "    <tr>\n",
       "      <th>4</th>\n",
       "      <td>55</td>\n",
       "      <td>1</td>\n",
       "      <td>89.90</td>\n",
       "      <td>22948</td>\n",
       "      <td>Mrs</td>\n",
       "      <td>1001</td>\n",
       "      <td>3</td>\n",
       "      <td>Sunday</td>\n",
       "      <td>August</td>\n",
       "      <td>59.0</td>\n",
       "      <td>492.0</td>\n",
       "      <td>40</td>\n",
       "      <td>65</td>\n",
       "    </tr>\n",
       "  </tbody>\n",
       "</table>\n",
       "</div>"
      ],
      "text/plain": [
       "   item_id  brand_id  item_price  user_id user_title  user_state  \\\n",
       "0       92        42       69.90     9392        Mrs        1010   \n",
       "1        2         2       19.90     9392        Mrs        1010   \n",
       "2      895        39       39.95    30826        Mrs        1001   \n",
       "3        5         5       69.90    30828        Mrs        1008   \n",
       "4       55         1       89.90    22948        Mrs        1001   \n",
       "\n",
       "   Delivery_time   Weekday   Month   age  order_reg_duration  \\\n",
       "0              3    Sunday    June  54.0                91.0   \n",
       "1              9  Saturday    July  54.0                91.0   \n",
       "2              3    Sunday    June  52.0               492.0   \n",
       "3              3    Sunday  August  50.0               154.0   \n",
       "4              3    Sunday  August  59.0               492.0   \n",
       "\n",
       "   item_size_updated  order_item_id  \n",
       "0                 40             26  \n",
       "1                 42             28  \n",
       "2                 38             37  \n",
       "3                 38             56  \n",
       "4                 40             65  "
      ]
     },
     "execution_count": 153,
     "metadata": {},
     "output_type": "execute_result"
    }
   ],
   "source": [
    "my_data_testing.head()"
   ]
  },
  {
   "cell_type": "code",
   "execution_count": 154,
   "metadata": {
    "id": "zXywy6_rujtY"
   },
   "outputs": [
    {
     "data": {
      "text/plain": [
       "August       9297\n",
       "July         5733\n",
       "September    2616\n",
       "June         1556\n",
       "October       384\n",
       "December      254\n",
       "November      215\n",
       "Name: Month, dtype: int64"
      ]
     },
     "execution_count": 154,
     "metadata": {},
     "output_type": "execute_result"
    }
   ],
   "source": [
    "my_data_testing[\"Month\"].value_counts()"
   ]
  },
  {
   "cell_type": "code",
   "execution_count": 155,
   "metadata": {
    "id": "9pd6Qz6mpWxn"
   },
   "outputs": [],
   "source": [
    "my_data_testing[\"user_title\"]=my_data_testing[\"user_title\"].map({\"Mrs\":3,\"Mr\":2,\"Family\":1,\"Company\":0,\"not reported\":4})\n",
    "my_data_testing[\"Month\"]=my_data_testing[\"Month\"].map({\"August\":0,\"July\":3,\"September\":7,\"June\":4,\"October\":6,\"December\":1,\"November\":5,\"January\":2})\n",
    "my_data_testing[\"Weekday\"]=my_data_testing[\"Weekday\"].map({\"Sunday\":2,\"Monday\":0,\"Saturday\":1,\"Tuesday\":4,\"Wednesday\":5,\"Thursday\":3})"
   ]
  },
  {
   "cell_type": "code",
   "execution_count": 156,
   "metadata": {
    "id": "llgSMlzUxv1P"
   },
   "outputs": [
    {
     "data": {
      "text/html": [
       "<div>\n",
       "<style scoped>\n",
       "    .dataframe tbody tr th:only-of-type {\n",
       "        vertical-align: middle;\n",
       "    }\n",
       "\n",
       "    .dataframe tbody tr th {\n",
       "        vertical-align: top;\n",
       "    }\n",
       "\n",
       "    .dataframe thead th {\n",
       "        text-align: right;\n",
       "    }\n",
       "</style>\n",
       "<table border=\"1\" class=\"dataframe\">\n",
       "  <thead>\n",
       "    <tr style=\"text-align: right;\">\n",
       "      <th></th>\n",
       "      <th>item_id</th>\n",
       "      <th>brand_id</th>\n",
       "      <th>item_price</th>\n",
       "      <th>user_id</th>\n",
       "      <th>user_title</th>\n",
       "      <th>user_state</th>\n",
       "      <th>Delivery_time</th>\n",
       "      <th>Weekday</th>\n",
       "      <th>Month</th>\n",
       "      <th>age</th>\n",
       "      <th>order_reg_duration</th>\n",
       "      <th>item_size_updated</th>\n",
       "      <th>order_item_id</th>\n",
       "    </tr>\n",
       "  </thead>\n",
       "  <tbody>\n",
       "    <tr>\n",
       "      <th>0</th>\n",
       "      <td>92</td>\n",
       "      <td>42</td>\n",
       "      <td>69.90</td>\n",
       "      <td>9392</td>\n",
       "      <td>3</td>\n",
       "      <td>1010</td>\n",
       "      <td>3</td>\n",
       "      <td>2</td>\n",
       "      <td>4</td>\n",
       "      <td>54.0</td>\n",
       "      <td>91.0</td>\n",
       "      <td>40</td>\n",
       "      <td>26</td>\n",
       "    </tr>\n",
       "    <tr>\n",
       "      <th>1</th>\n",
       "      <td>2</td>\n",
       "      <td>2</td>\n",
       "      <td>19.90</td>\n",
       "      <td>9392</td>\n",
       "      <td>3</td>\n",
       "      <td>1010</td>\n",
       "      <td>9</td>\n",
       "      <td>1</td>\n",
       "      <td>3</td>\n",
       "      <td>54.0</td>\n",
       "      <td>91.0</td>\n",
       "      <td>42</td>\n",
       "      <td>28</td>\n",
       "    </tr>\n",
       "    <tr>\n",
       "      <th>2</th>\n",
       "      <td>895</td>\n",
       "      <td>39</td>\n",
       "      <td>39.95</td>\n",
       "      <td>30826</td>\n",
       "      <td>3</td>\n",
       "      <td>1001</td>\n",
       "      <td>3</td>\n",
       "      <td>2</td>\n",
       "      <td>4</td>\n",
       "      <td>52.0</td>\n",
       "      <td>492.0</td>\n",
       "      <td>38</td>\n",
       "      <td>37</td>\n",
       "    </tr>\n",
       "    <tr>\n",
       "      <th>3</th>\n",
       "      <td>5</td>\n",
       "      <td>5</td>\n",
       "      <td>69.90</td>\n",
       "      <td>30828</td>\n",
       "      <td>3</td>\n",
       "      <td>1008</td>\n",
       "      <td>3</td>\n",
       "      <td>2</td>\n",
       "      <td>0</td>\n",
       "      <td>50.0</td>\n",
       "      <td>154.0</td>\n",
       "      <td>38</td>\n",
       "      <td>56</td>\n",
       "    </tr>\n",
       "    <tr>\n",
       "      <th>4</th>\n",
       "      <td>55</td>\n",
       "      <td>1</td>\n",
       "      <td>89.90</td>\n",
       "      <td>22948</td>\n",
       "      <td>3</td>\n",
       "      <td>1001</td>\n",
       "      <td>3</td>\n",
       "      <td>2</td>\n",
       "      <td>0</td>\n",
       "      <td>59.0</td>\n",
       "      <td>492.0</td>\n",
       "      <td>40</td>\n",
       "      <td>65</td>\n",
       "    </tr>\n",
       "  </tbody>\n",
       "</table>\n",
       "</div>"
      ],
      "text/plain": [
       "   item_id  brand_id  item_price  user_id  user_title  user_state  \\\n",
       "0       92        42       69.90     9392           3        1010   \n",
       "1        2         2       19.90     9392           3        1010   \n",
       "2      895        39       39.95    30826           3        1001   \n",
       "3        5         5       69.90    30828           3        1008   \n",
       "4       55         1       89.90    22948           3        1001   \n",
       "\n",
       "   Delivery_time  Weekday  Month   age  order_reg_duration  item_size_updated  \\\n",
       "0              3        2      4  54.0                91.0                 40   \n",
       "1              9        1      3  54.0                91.0                 42   \n",
       "2              3        2      4  52.0               492.0                 38   \n",
       "3              3        2      0  50.0               154.0                 38   \n",
       "4              3        2      0  59.0               492.0                 40   \n",
       "\n",
       "   order_item_id  \n",
       "0             26  \n",
       "1             28  \n",
       "2             37  \n",
       "3             56  \n",
       "4             65  "
      ]
     },
     "execution_count": 156,
     "metadata": {},
     "output_type": "execute_result"
    }
   ],
   "source": [
    "my_data_testing.head()"
   ]
  },
  {
   "cell_type": "code",
   "execution_count": 72,
   "metadata": {
    "id": "Za1VogTYyCpR"
   },
   "outputs": [],
   "source": [
    "y_pred_test_data = clf.predict(my_data_testing)"
   ]
  },
  {
   "cell_type": "code",
   "execution_count": 158,
   "metadata": {},
   "outputs": [],
   "source": [
    "item_id=my_data_testing[\"item_id\"]\n",
    "order_item_id=my_data_testing[\"order_item_id\"]"
   ]
  },
  {
   "cell_type": "code",
   "execution_count": 159,
   "metadata": {},
   "outputs": [],
   "source": [
    "final_output=pd.DataFrame({\"item_id\":item_id,\"y_pred\":y_pred_test_data,\"order_item_id\":order_item_id})"
   ]
  },
  {
   "cell_type": "code",
   "execution_count": 160,
   "metadata": {},
   "outputs": [
    {
     "data": {
      "text/html": [
       "<div>\n",
       "<style scoped>\n",
       "    .dataframe tbody tr th:only-of-type {\n",
       "        vertical-align: middle;\n",
       "    }\n",
       "\n",
       "    .dataframe tbody tr th {\n",
       "        vertical-align: top;\n",
       "    }\n",
       "\n",
       "    .dataframe thead th {\n",
       "        text-align: right;\n",
       "    }\n",
       "</style>\n",
       "<table border=\"1\" class=\"dataframe\">\n",
       "  <thead>\n",
       "    <tr style=\"text-align: right;\">\n",
       "      <th></th>\n",
       "      <th>item_id</th>\n",
       "      <th>y_pred</th>\n",
       "      <th>order_item_id</th>\n",
       "    </tr>\n",
       "  </thead>\n",
       "  <tbody>\n",
       "    <tr>\n",
       "      <th>0</th>\n",
       "      <td>92</td>\n",
       "      <td>1</td>\n",
       "      <td>26</td>\n",
       "    </tr>\n",
       "    <tr>\n",
       "      <th>1</th>\n",
       "      <td>2</td>\n",
       "      <td>0</td>\n",
       "      <td>28</td>\n",
       "    </tr>\n",
       "    <tr>\n",
       "      <th>2</th>\n",
       "      <td>895</td>\n",
       "      <td>1</td>\n",
       "      <td>37</td>\n",
       "    </tr>\n",
       "    <tr>\n",
       "      <th>3</th>\n",
       "      <td>5</td>\n",
       "      <td>1</td>\n",
       "      <td>56</td>\n",
       "    </tr>\n",
       "    <tr>\n",
       "      <th>4</th>\n",
       "      <td>55</td>\n",
       "      <td>0</td>\n",
       "      <td>65</td>\n",
       "    </tr>\n",
       "    <tr>\n",
       "      <th>...</th>\n",
       "      <td>...</td>\n",
       "      <td>...</td>\n",
       "      <td>...</td>\n",
       "    </tr>\n",
       "    <tr>\n",
       "      <th>20050</th>\n",
       "      <td>2217</td>\n",
       "      <td>1</td>\n",
       "      <td>99935</td>\n",
       "    </tr>\n",
       "    <tr>\n",
       "      <th>20051</th>\n",
       "      <td>1652</td>\n",
       "      <td>0</td>\n",
       "      <td>99943</td>\n",
       "    </tr>\n",
       "    <tr>\n",
       "      <th>20052</th>\n",
       "      <td>1611</td>\n",
       "      <td>1</td>\n",
       "      <td>99952</td>\n",
       "    </tr>\n",
       "    <tr>\n",
       "      <th>20053</th>\n",
       "      <td>1550</td>\n",
       "      <td>1</td>\n",
       "      <td>99986</td>\n",
       "    </tr>\n",
       "    <tr>\n",
       "      <th>20054</th>\n",
       "      <td>156</td>\n",
       "      <td>0</td>\n",
       "      <td>99996</td>\n",
       "    </tr>\n",
       "  </tbody>\n",
       "</table>\n",
       "<p>20055 rows × 3 columns</p>\n",
       "</div>"
      ],
      "text/plain": [
       "       item_id  y_pred  order_item_id\n",
       "0           92       1             26\n",
       "1            2       0             28\n",
       "2          895       1             37\n",
       "3            5       1             56\n",
       "4           55       0             65\n",
       "...        ...     ...            ...\n",
       "20050     2217       1          99935\n",
       "20051     1652       0          99943\n",
       "20052     1611       1          99952\n",
       "20053     1550       1          99986\n",
       "20054      156       0          99996\n",
       "\n",
       "[20055 rows x 3 columns]"
      ]
     },
     "execution_count": 160,
     "metadata": {},
     "output_type": "execute_result"
    }
   ],
   "source": [
    "final_output"
   ]
  },
  {
   "cell_type": "code",
   "execution_count": 98,
   "metadata": {},
   "outputs": [],
   "source": [
    "my_data_testing[\"y_pred\"]=y_pred_test_data"
   ]
  },
  {
   "cell_type": "code",
   "execution_count": 99,
   "metadata": {},
   "outputs": [],
   "source": [
    "veri=pd.read_csv(r\"C:\\Users\\USER\\Desktop\\assignment\\Machine-Learning-Pipeline-for-Beginners-main\\Machine-Learning-Pipeline-for-Beginners-main\\training_set.csv\")"
   ]
  },
  {
   "cell_type": "code",
   "execution_count": 100,
   "metadata": {},
   "outputs": [
    {
     "data": {
      "text/plain": [
       "(100000, 14)"
      ]
     },
     "execution_count": 100,
     "metadata": {},
     "output_type": "execute_result"
    }
   ],
   "source": [
    "veri.shape"
   ]
  },
  {
   "cell_type": "code",
   "execution_count": 101,
   "metadata": {},
   "outputs": [
    {
     "data": {
      "text/html": [
       "<div>\n",
       "<style scoped>\n",
       "    .dataframe tbody tr th:only-of-type {\n",
       "        vertical-align: middle;\n",
       "    }\n",
       "\n",
       "    .dataframe tbody tr th {\n",
       "        vertical-align: top;\n",
       "    }\n",
       "\n",
       "    .dataframe thead th {\n",
       "        text-align: right;\n",
       "    }\n",
       "</style>\n",
       "<table border=\"1\" class=\"dataframe\">\n",
       "  <thead>\n",
       "    <tr style=\"text-align: right;\">\n",
       "      <th></th>\n",
       "      <th>order_item_id</th>\n",
       "      <th>order_date</th>\n",
       "      <th>delivery_date</th>\n",
       "      <th>item_id</th>\n",
       "      <th>item_size</th>\n",
       "      <th>item_color</th>\n",
       "      <th>brand_id</th>\n",
       "      <th>item_price</th>\n",
       "      <th>user_id</th>\n",
       "      <th>user_title</th>\n",
       "      <th>user_dob</th>\n",
       "      <th>user_state</th>\n",
       "      <th>user_reg_date</th>\n",
       "      <th>return</th>\n",
       "    </tr>\n",
       "  </thead>\n",
       "  <tbody>\n",
       "    <tr>\n",
       "      <th>0</th>\n",
       "      <td>1</td>\n",
       "      <td>2016-06-22</td>\n",
       "      <td>2016-06-27</td>\n",
       "      <td>643</td>\n",
       "      <td>38</td>\n",
       "      <td>navy</td>\n",
       "      <td>30</td>\n",
       "      <td>49.90</td>\n",
       "      <td>30822</td>\n",
       "      <td>Mrs</td>\n",
       "      <td>1969-04-17</td>\n",
       "      <td>Saxony</td>\n",
       "      <td>2016-06-23</td>\n",
       "      <td>0</td>\n",
       "    </tr>\n",
       "    <tr>\n",
       "      <th>1</th>\n",
       "      <td>2</td>\n",
       "      <td>2016-06-22</td>\n",
       "      <td>NaN</td>\n",
       "      <td>337</td>\n",
       "      <td>152</td>\n",
       "      <td>grey</td>\n",
       "      <td>30</td>\n",
       "      <td>19.95</td>\n",
       "      <td>30822</td>\n",
       "      <td>Mrs</td>\n",
       "      <td>1969-04-17</td>\n",
       "      <td>Saxony</td>\n",
       "      <td>2016-06-23</td>\n",
       "      <td>0</td>\n",
       "    </tr>\n",
       "    <tr>\n",
       "      <th>2</th>\n",
       "      <td>3</td>\n",
       "      <td>2016-06-22</td>\n",
       "      <td>2016-06-27</td>\n",
       "      <td>270</td>\n",
       "      <td>xxl</td>\n",
       "      <td>grey</td>\n",
       "      <td>49</td>\n",
       "      <td>79.90</td>\n",
       "      <td>30823</td>\n",
       "      <td>Mrs</td>\n",
       "      <td>1970-04-22</td>\n",
       "      <td>Baden-Wuerttemberg</td>\n",
       "      <td>2015-03-15</td>\n",
       "      <td>1</td>\n",
       "    </tr>\n",
       "    <tr>\n",
       "      <th>3</th>\n",
       "      <td>4</td>\n",
       "      <td>2016-06-22</td>\n",
       "      <td>2016-06-27</td>\n",
       "      <td>142</td>\n",
       "      <td>xxl</td>\n",
       "      <td>grey</td>\n",
       "      <td>49</td>\n",
       "      <td>99.90</td>\n",
       "      <td>30823</td>\n",
       "      <td>Mrs</td>\n",
       "      <td>1970-04-22</td>\n",
       "      <td>Baden-Wuerttemberg</td>\n",
       "      <td>2015-03-15</td>\n",
       "      <td>0</td>\n",
       "    </tr>\n",
       "    <tr>\n",
       "      <th>4</th>\n",
       "      <td>5</td>\n",
       "      <td>2016-06-22</td>\n",
       "      <td>2016-06-27</td>\n",
       "      <td>561</td>\n",
       "      <td>xxl</td>\n",
       "      <td>grey</td>\n",
       "      <td>3</td>\n",
       "      <td>14.90</td>\n",
       "      <td>30823</td>\n",
       "      <td>Mrs</td>\n",
       "      <td>1970-04-22</td>\n",
       "      <td>Baden-Wuerttemberg</td>\n",
       "      <td>2015-03-15</td>\n",
       "      <td>1</td>\n",
       "    </tr>\n",
       "  </tbody>\n",
       "</table>\n",
       "</div>"
      ],
      "text/plain": [
       "   order_item_id  order_date delivery_date  item_id item_size item_color  \\\n",
       "0              1  2016-06-22    2016-06-27      643        38       navy   \n",
       "1              2  2016-06-22           NaN      337       152       grey   \n",
       "2              3  2016-06-22    2016-06-27      270       xxl       grey   \n",
       "3              4  2016-06-22    2016-06-27      142       xxl       grey   \n",
       "4              5  2016-06-22    2016-06-27      561       xxl       grey   \n",
       "\n",
       "   brand_id  item_price  user_id user_title    user_dob          user_state  \\\n",
       "0        30       49.90    30822        Mrs  1969-04-17              Saxony   \n",
       "1        30       19.95    30822        Mrs  1969-04-17              Saxony   \n",
       "2        49       79.90    30823        Mrs  1970-04-22  Baden-Wuerttemberg   \n",
       "3        49       99.90    30823        Mrs  1970-04-22  Baden-Wuerttemberg   \n",
       "4         3       14.90    30823        Mrs  1970-04-22  Baden-Wuerttemberg   \n",
       "\n",
       "  user_reg_date  return  \n",
       "0    2016-06-23       0  \n",
       "1    2016-06-23       0  \n",
       "2    2015-03-15       1  \n",
       "3    2015-03-15       0  \n",
       "4    2015-03-15       1  "
      ]
     },
     "execution_count": 101,
     "metadata": {},
     "output_type": "execute_result"
    }
   ],
   "source": [
    "veri.head()"
   ]
  },
  {
   "cell_type": "code",
   "execution_count": null,
   "metadata": {},
   "outputs": [],
   "source": []
  },
  {
   "cell_type": "code",
   "execution_count": 84,
   "metadata": {},
   "outputs": [
    {
     "data": {
      "text/plain": [
       "(3805014, 15)"
      ]
     },
     "execution_count": 84,
     "metadata": {},
     "output_type": "execute_result"
    }
   ],
   "source": [
    "new.shape"
   ]
  },
  {
   "cell_type": "code",
   "execution_count": 85,
   "metadata": {},
   "outputs": [
    {
     "data": {
      "text/plain": [
       "(20055, 2)"
      ]
     },
     "execution_count": 85,
     "metadata": {},
     "output_type": "execute_result"
    }
   ],
   "source": [
    "final_output.shape"
   ]
  },
  {
   "cell_type": "code",
   "execution_count": 90,
   "metadata": {},
   "outputs": [
    {
     "data": {
      "text/html": [
       "<div>\n",
       "<style scoped>\n",
       "    .dataframe tbody tr th:only-of-type {\n",
       "        vertical-align: middle;\n",
       "    }\n",
       "\n",
       "    .dataframe tbody tr th {\n",
       "        vertical-align: top;\n",
       "    }\n",
       "\n",
       "    .dataframe thead th {\n",
       "        text-align: right;\n",
       "    }\n",
       "</style>\n",
       "<table border=\"1\" class=\"dataframe\">\n",
       "  <thead>\n",
       "    <tr style=\"text-align: right;\">\n",
       "      <th></th>\n",
       "      <th>order_item_id</th>\n",
       "      <th>order_date</th>\n",
       "      <th>delivery_date</th>\n",
       "      <th>item_id_x</th>\n",
       "      <th>item_size</th>\n",
       "      <th>item_color</th>\n",
       "      <th>brand_id</th>\n",
       "      <th>item_price</th>\n",
       "      <th>user_id</th>\n",
       "      <th>user_title</th>\n",
       "      <th>user_dob</th>\n",
       "      <th>user_state</th>\n",
       "      <th>user_reg_date</th>\n",
       "      <th>return</th>\n",
       "      <th>item_id_y</th>\n",
       "      <th>y_pred</th>\n",
       "    </tr>\n",
       "  </thead>\n",
       "  <tbody>\n",
       "    <tr>\n",
       "      <th>0</th>\n",
       "      <td>1</td>\n",
       "      <td>2016-06-22</td>\n",
       "      <td>2016-06-27</td>\n",
       "      <td>643</td>\n",
       "      <td>38</td>\n",
       "      <td>navy</td>\n",
       "      <td>30</td>\n",
       "      <td>49.9</td>\n",
       "      <td>30822</td>\n",
       "      <td>Mrs</td>\n",
       "      <td>1969-04-17</td>\n",
       "      <td>Saxony</td>\n",
       "      <td>2016-06-23</td>\n",
       "      <td>0</td>\n",
       "      <td>1</td>\n",
       "      <td>0</td>\n",
       "    </tr>\n",
       "    <tr>\n",
       "      <th>1</th>\n",
       "      <td>1</td>\n",
       "      <td>2016-06-22</td>\n",
       "      <td>2016-06-27</td>\n",
       "      <td>643</td>\n",
       "      <td>38</td>\n",
       "      <td>navy</td>\n",
       "      <td>30</td>\n",
       "      <td>49.9</td>\n",
       "      <td>30822</td>\n",
       "      <td>Mrs</td>\n",
       "      <td>1969-04-17</td>\n",
       "      <td>Saxony</td>\n",
       "      <td>2016-06-23</td>\n",
       "      <td>0</td>\n",
       "      <td>1</td>\n",
       "      <td>0</td>\n",
       "    </tr>\n",
       "    <tr>\n",
       "      <th>2</th>\n",
       "      <td>1</td>\n",
       "      <td>2016-06-22</td>\n",
       "      <td>2016-06-27</td>\n",
       "      <td>643</td>\n",
       "      <td>38</td>\n",
       "      <td>navy</td>\n",
       "      <td>30</td>\n",
       "      <td>49.9</td>\n",
       "      <td>30822</td>\n",
       "      <td>Mrs</td>\n",
       "      <td>1969-04-17</td>\n",
       "      <td>Saxony</td>\n",
       "      <td>2016-06-23</td>\n",
       "      <td>0</td>\n",
       "      <td>1</td>\n",
       "      <td>0</td>\n",
       "    </tr>\n",
       "    <tr>\n",
       "      <th>3</th>\n",
       "      <td>1</td>\n",
       "      <td>2016-06-22</td>\n",
       "      <td>2016-06-27</td>\n",
       "      <td>643</td>\n",
       "      <td>38</td>\n",
       "      <td>navy</td>\n",
       "      <td>30</td>\n",
       "      <td>49.9</td>\n",
       "      <td>30822</td>\n",
       "      <td>Mrs</td>\n",
       "      <td>1969-04-17</td>\n",
       "      <td>Saxony</td>\n",
       "      <td>2016-06-23</td>\n",
       "      <td>0</td>\n",
       "      <td>1</td>\n",
       "      <td>0</td>\n",
       "    </tr>\n",
       "    <tr>\n",
       "      <th>4</th>\n",
       "      <td>1</td>\n",
       "      <td>2016-06-22</td>\n",
       "      <td>2016-06-27</td>\n",
       "      <td>643</td>\n",
       "      <td>38</td>\n",
       "      <td>navy</td>\n",
       "      <td>30</td>\n",
       "      <td>49.9</td>\n",
       "      <td>30822</td>\n",
       "      <td>Mrs</td>\n",
       "      <td>1969-04-17</td>\n",
       "      <td>Saxony</td>\n",
       "      <td>2016-06-23</td>\n",
       "      <td>0</td>\n",
       "      <td>1</td>\n",
       "      <td>1</td>\n",
       "    </tr>\n",
       "  </tbody>\n",
       "</table>\n",
       "</div>"
      ],
      "text/plain": [
       "   order_item_id  order_date delivery_date  item_id_x item_size item_color  \\\n",
       "0              1  2016-06-22    2016-06-27        643        38       navy   \n",
       "1              1  2016-06-22    2016-06-27        643        38       navy   \n",
       "2              1  2016-06-22    2016-06-27        643        38       navy   \n",
       "3              1  2016-06-22    2016-06-27        643        38       navy   \n",
       "4              1  2016-06-22    2016-06-27        643        38       navy   \n",
       "\n",
       "   brand_id  item_price  user_id user_title    user_dob user_state  \\\n",
       "0        30        49.9    30822        Mrs  1969-04-17     Saxony   \n",
       "1        30        49.9    30822        Mrs  1969-04-17     Saxony   \n",
       "2        30        49.9    30822        Mrs  1969-04-17     Saxony   \n",
       "3        30        49.9    30822        Mrs  1969-04-17     Saxony   \n",
       "4        30        49.9    30822        Mrs  1969-04-17     Saxony   \n",
       "\n",
       "  user_reg_date  return  item_id_y  y_pred  \n",
       "0    2016-06-23       0          1       0  \n",
       "1    2016-06-23       0          1       0  \n",
       "2    2016-06-23       0          1       0  \n",
       "3    2016-06-23       0          1       0  \n",
       "4    2016-06-23       0          1       1  "
      ]
     },
     "execution_count": 90,
     "metadata": {},
     "output_type": "execute_result"
    }
   ],
   "source": [
    "merged_inner.head()"
   ]
  },
  {
   "cell_type": "code",
   "execution_count": 161,
   "metadata": {},
   "outputs": [],
   "source": [
    "merged_inner = pd.merge(left=veri, right=final_output, on=\"order_item_id\",how=\"inner\")"
   ]
  },
  {
   "cell_type": "code",
   "execution_count": 162,
   "metadata": {},
   "outputs": [
    {
     "data": {
      "text/plain": [
       "(20055, 16)"
      ]
     },
     "execution_count": 162,
     "metadata": {},
     "output_type": "execute_result"
    }
   ],
   "source": [
    "merged_inner.shape"
   ]
  },
  {
   "cell_type": "code",
   "execution_count": 163,
   "metadata": {},
   "outputs": [
    {
     "data": {
      "text/plain": [
       "Text(0.5, 15.0, 'Predicted label')"
      ]
     },
     "execution_count": 163,
     "metadata": {},
     "output_type": "execute_result"
    },
    {
     "data": {
      "image/png": "[encoded data removed]",
      "text/plain": [
       "<Figure size 432x288 with 2 Axes>"
      ]
     },
     "metadata": {},
     "output_type": "display_data"
    }
   ],
   "source": [
    "from sklearn import metrics\n",
    "cnf_matrix = metrics.confusion_matrix(merged_inner[\"return\"], merged_inner[\"y_pred\"])\n",
    "p = sns.heatmap(pd.DataFrame(cnf_matrix), annot=True, cmap=\"YlGnBu\" ,fmt='g')\n",
    "plt.title('Confusion matrix', y=1.1)\n",
    "plt.ylabel('Actual label')\n",
    "plt.xlabel('Predicted label')"
   ]
  },
  {
   "cell_type": "code",
   "execution_count": 87,
   "metadata": {},
   "outputs": [
    {
     "data": {
      "text/html": [
       "<div>\n",
       "<style scoped>\n",
       "    .dataframe tbody tr th:only-of-type {\n",
       "        vertical-align: middle;\n",
       "    }\n",
       "\n",
       "    .dataframe tbody tr th {\n",
       "        vertical-align: top;\n",
       "    }\n",
       "\n",
       "    .dataframe thead th {\n",
       "        text-align: right;\n",
       "    }\n",
       "</style>\n",
       "<table border=\"1\" class=\"dataframe\">\n",
       "  <thead>\n",
       "    <tr style=\"text-align: right;\">\n",
       "      <th></th>\n",
       "      <th>order_item_id</th>\n",
       "      <th>order_date</th>\n",
       "      <th>delivery_date</th>\n",
       "      <th>item_id</th>\n",
       "      <th>item_size</th>\n",
       "      <th>item_color</th>\n",
       "      <th>brand_id</th>\n",
       "      <th>item_price</th>\n",
       "      <th>user_id</th>\n",
       "      <th>user_title</th>\n",
       "      <th>user_dob</th>\n",
       "      <th>user_state</th>\n",
       "      <th>user_reg_date</th>\n",
       "      <th>return</th>\n",
       "    </tr>\n",
       "  </thead>\n",
       "  <tbody>\n",
       "    <tr>\n",
       "      <th>0</th>\n",
       "      <td>1</td>\n",
       "      <td>2016-06-22</td>\n",
       "      <td>2016-06-27</td>\n",
       "      <td>643</td>\n",
       "      <td>38</td>\n",
       "      <td>navy</td>\n",
       "      <td>30</td>\n",
       "      <td>49.90</td>\n",
       "      <td>30822</td>\n",
       "      <td>Mrs</td>\n",
       "      <td>1969-04-17</td>\n",
       "      <td>Saxony</td>\n",
       "      <td>2016-06-23</td>\n",
       "      <td>0</td>\n",
       "    </tr>\n",
       "    <tr>\n",
       "      <th>1</th>\n",
       "      <td>2</td>\n",
       "      <td>2016-06-22</td>\n",
       "      <td>NaN</td>\n",
       "      <td>337</td>\n",
       "      <td>152</td>\n",
       "      <td>grey</td>\n",
       "      <td>30</td>\n",
       "      <td>19.95</td>\n",
       "      <td>30822</td>\n",
       "      <td>Mrs</td>\n",
       "      <td>1969-04-17</td>\n",
       "      <td>Saxony</td>\n",
       "      <td>2016-06-23</td>\n",
       "      <td>0</td>\n",
       "    </tr>\n",
       "    <tr>\n",
       "      <th>2</th>\n",
       "      <td>3</td>\n",
       "      <td>2016-06-22</td>\n",
       "      <td>2016-06-27</td>\n",
       "      <td>270</td>\n",
       "      <td>xxl</td>\n",
       "      <td>grey</td>\n",
       "      <td>49</td>\n",
       "      <td>79.90</td>\n",
       "      <td>30823</td>\n",
       "      <td>Mrs</td>\n",
       "      <td>1970-04-22</td>\n",
       "      <td>Baden-Wuerttemberg</td>\n",
       "      <td>2015-03-15</td>\n",
       "      <td>1</td>\n",
       "    </tr>\n",
       "    <tr>\n",
       "      <th>3</th>\n",
       "      <td>4</td>\n",
       "      <td>2016-06-22</td>\n",
       "      <td>2016-06-27</td>\n",
       "      <td>142</td>\n",
       "      <td>xxl</td>\n",
       "      <td>grey</td>\n",
       "      <td>49</td>\n",
       "      <td>99.90</td>\n",
       "      <td>30823</td>\n",
       "      <td>Mrs</td>\n",
       "      <td>1970-04-22</td>\n",
       "      <td>Baden-Wuerttemberg</td>\n",
       "      <td>2015-03-15</td>\n",
       "      <td>0</td>\n",
       "    </tr>\n",
       "    <tr>\n",
       "      <th>4</th>\n",
       "      <td>5</td>\n",
       "      <td>2016-06-22</td>\n",
       "      <td>2016-06-27</td>\n",
       "      <td>561</td>\n",
       "      <td>xxl</td>\n",
       "      <td>grey</td>\n",
       "      <td>3</td>\n",
       "      <td>14.90</td>\n",
       "      <td>30823</td>\n",
       "      <td>Mrs</td>\n",
       "      <td>1970-04-22</td>\n",
       "      <td>Baden-Wuerttemberg</td>\n",
       "      <td>2015-03-15</td>\n",
       "      <td>1</td>\n",
       "    </tr>\n",
       "  </tbody>\n",
       "</table>\n",
       "</div>"
      ],
      "text/plain": [
       "   order_item_id  order_date delivery_date  item_id item_size item_color  \\\n",
       "0              1  2016-06-22    2016-06-27      643        38       navy   \n",
       "1              2  2016-06-22           NaN      337       152       grey   \n",
       "2              3  2016-06-22    2016-06-27      270       xxl       grey   \n",
       "3              4  2016-06-22    2016-06-27      142       xxl       grey   \n",
       "4              5  2016-06-22    2016-06-27      561       xxl       grey   \n",
       "\n",
       "   brand_id  item_price  user_id user_title    user_dob          user_state  \\\n",
       "0        30       49.90    30822        Mrs  1969-04-17              Saxony   \n",
       "1        30       19.95    30822        Mrs  1969-04-17              Saxony   \n",
       "2        49       79.90    30823        Mrs  1970-04-22  Baden-Wuerttemberg   \n",
       "3        49       99.90    30823        Mrs  1970-04-22  Baden-Wuerttemberg   \n",
       "4         3       14.90    30823        Mrs  1970-04-22  Baden-Wuerttemberg   \n",
       "\n",
       "  user_reg_date  return  \n",
       "0    2016-06-23       0  \n",
       "1    2016-06-23       0  \n",
       "2    2015-03-15       1  \n",
       "3    2015-03-15       0  \n",
       "4    2015-03-15       1  "
      ]
     },
     "execution_count": 87,
     "metadata": {},
     "output_type": "execute_result"
    }
   ],
   "source": [
    "veri.head()"
   ]
  },
  {
   "cell_type": "code",
   "execution_count": null,
   "metadata": {},
   "outputs": [],
   "source": [
    "veri=pd.read_csv(r\"C:\\Users\\USER\\Desktop\\assignment\\Machine-Learning-Pipeline-for-Beginners-main\\Machine-Learning-Pipeline-for-Beginners-main\\training_set.csv\")"
   ]
  },
  {
   "cell_type": "code",
   "execution_count": 164,
   "metadata": {},
   "outputs": [],
   "source": [
    "final_output.to_csv('final_output.csv')"
   ]
  }
 ],
 "metadata": {
  "colab": {
   "collapsed_sections": [],
   "name": "TRAIN_TEST_FINAL.ipynb",
   "provenance": []
  },
  "kernelspec": {
   "display_name": "Python 3",
   "language": "python",
   "name": "python3"
  },
  "language_info": {
   "codemirror_mode": {
    "name": "ipython",
    "version": 3
   },
   "file_extension": ".py",
   "mimetype": "text/x-python",
   "name": "python",
   "nbconvert_exporter": "python",
   "pygments_lexer": "ipython3",
   "version": "3.8.3"
  }
 },
 "nbformat": 4,
 "nbformat_minor": 1
}
